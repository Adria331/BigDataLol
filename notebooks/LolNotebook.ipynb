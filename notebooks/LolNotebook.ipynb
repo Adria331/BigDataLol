{
  "nbformat": 4,
  "nbformat_minor": 0,
  "metadata": {
    "colab": {
      "name": "Lolete.ipynb",
      "version": "0.3.2",
      "provenance": [],
      "collapsed_sections": [],
      "toc_visible": true
    },
    "kernelspec": {
      "name": "python3",
      "display_name": "Python 3"
    }
  },
  "cells": [
    {
      "cell_type": "code",
      "metadata": {
        "id": "lBfQP5GDNcpv",
        "colab_type": "code",
        "colab": {}
      },
      "source": [
        "import pandas as pd\n",
        "import numpy as np\n",
        "import matplotlib.pyplot as plt\n",
        "import json\n",
        "from pandas.io.json import json_normalize"
      ],
      "execution_count": 0,
      "outputs": []
    },
    {
      "cell_type": "code",
      "metadata": {
        "id": "NZcx7HDQNiD6",
        "colab_type": "code",
        "colab": {}
      },
      "source": [
        "games = pd.read_json(\"datas2.json\", lines = True, orient=\"values\")"
      ],
      "execution_count": 0,
      "outputs": []
    },
    {
      "cell_type": "markdown",
      "metadata": {
        "id": "pIWzNYoxTxN1",
        "colab_type": "text"
      },
      "source": [
        "#Champion Static content"
      ]
    },
    {
      "cell_type": "code",
      "metadata": {
        "id": "56s-hNRjTwrZ",
        "colab_type": "code",
        "colab": {}
      },
      "source": [
        "championsDataJson = pd.read_json(\"champions.json\", lines = True, orient=\"values\")"
      ],
      "execution_count": 0,
      "outputs": []
    },
    {
      "cell_type": "code",
      "metadata": {
        "id": "3PZxZecKamtU",
        "colab_type": "code",
        "colab": {}
      },
      "source": [
        "championsDataJson = json.loads(championsDataJson.data.to_json())['0']"
      ],
      "execution_count": 0,
      "outputs": []
    },
    {
      "cell_type": "markdown",
      "metadata": {
        "id": "LGLiMtUHh6vp",
        "colab_type": "text"
      },
      "source": [
        "###Adding champs left"
      ]
    },
    {
      "cell_type": "code",
      "metadata": {
        "id": "-hYk-QyNh8oE",
        "colab_type": "code",
        "colab": {}
      },
      "source": [
        "#Zoe 142\n",
        "newdata = {'key':'142', 'tags':['Mage'], 'id':'Zoe'}\n",
        "championsDataJson['Zoe'] = newdata\n",
        "\n",
        "#Kayn 141\n",
        "newdata = {'key':'141', 'tags':['Fighter'], 'id':'Kayn'}\n",
        "championsDataJson['Kayn'] = newdata\n",
        "\n",
        "#Neeko 518\n",
        "newdata = {'key':'518', 'tags':['Mage'], 'id':'Neeko'}\n",
        "championsDataJson['Neeko'] = newdata\n",
        "\n",
        "#Xayah 498\n",
        "newdata = {'key':'498', 'tags':['Marksman'], 'id':'Xayah'}\n",
        "championsDataJson['Xayah'] = newdata\n",
        "\n",
        "#Rakan 497\n",
        "newdata = {'key':'497', 'tags':['Support'], 'id':'Rakan'}\n",
        "championsDataJson['Rakan'] = newdata\n",
        "\n",
        "#Kaisa 145\n",
        "newdata = {'key':'145', 'tags':['Marksman'], 'id':'Kaisa'}\n",
        "championsDataJson['Kaisa'] = newdata\n",
        "\n",
        "#Sylas 517\n",
        "newdata = {'key':'517', 'tags':['Mage'], 'id':'Sylas'}\n",
        "championsDataJson['Sylas'] = newdata\n",
        "\n",
        "#Pyke 555\n",
        "newdata = {'key':'555', 'tags':['Support'], 'id':'Pyke'}\n",
        "championsDataJson['Pyke'] = newdata\n",
        "\n",
        "#Ornn 516\n",
        "newdata = {'key':'516', 'tags':['Tank'], 'id':'Ornn'}\n",
        "championsDataJson['Ornn'] = newdata"
      ],
      "execution_count": 0,
      "outputs": []
    },
    {
      "cell_type": "code",
      "metadata": {
        "id": "r2n6PEHDtVcd",
        "colab_type": "code",
        "outputId": "4225804e-1a87-4d96-9355-c2e487ae913d",
        "colab": {
          "base_uri": "https://localhost:8080/",
          "height": 34
        }
      },
      "source": [
        "championsDataJson['Pyke']"
      ],
      "execution_count": 0,
      "outputs": [
        {
          "output_type": "execute_result",
          "data": {
            "text/plain": [
              "{'id': 'Pyke', 'key': '555', 'tags': ['Support']}"
            ]
          },
          "metadata": {
            "tags": []
          },
          "execution_count": 6
        }
      ]
    },
    {
      "cell_type": "markdown",
      "metadata": {
        "id": "IxMAMAFch9Bm",
        "colab_type": "text"
      },
      "source": [
        "####EXPORT DATA OF CHAMPIONS COMPLETE"
      ]
    },
    {
      "cell_type": "code",
      "metadata": {
        "id": "9P0UQbw4hOMR",
        "colab_type": "code",
        "colab": {}
      },
      "source": [
        "with open('championsComplete.json', 'w') as f:\n",
        "    json.dump(championsDataJson, f)"
      ],
      "execution_count": 0,
      "outputs": []
    },
    {
      "cell_type": "markdown",
      "metadata": {
        "id": "9nPqOtpTUJ-q",
        "colab_type": "text"
      },
      "source": [
        "#Data management"
      ]
    },
    {
      "cell_type": "markdown",
      "metadata": {
        "id": "JhX0FcD08Zws",
        "colab_type": "text"
      },
      "source": [
        "### Removement of unnecessy columns"
      ]
    },
    {
      "cell_type": "code",
      "metadata": {
        "id": "y_W6gLi6TKtV",
        "colab_type": "code",
        "colab": {}
      },
      "source": [
        "#games = games.drop(['gameCreation'], axis=1)\n",
        "games = games.drop(['gameVersion'], axis=1)\n",
        "games = games.drop(['platformId'], axis=1)\n",
        "games = games.drop(['seasonId'], axis=1)\n",
        "games = games.drop(['queueId'], axis=1)\n",
        "games = games.drop(['mapId'], axis=1)\n",
        "games = games.drop(['participantIdentities'], axis=1)\n",
        "games = games.drop(['gameType'], axis=1)\n"
      ],
      "execution_count": 0,
      "outputs": []
    },
    {
      "cell_type": "code",
      "metadata": {
        "id": "Ref7q6iLqR9m",
        "colab_type": "code",
        "outputId": "57383ea1-20f1-4f62-d96a-8dd5c99d3247",
        "colab": {
          "base_uri": "https://localhost:8080/",
          "height": 204
        }
      },
      "source": [
        "games.head()"
      ],
      "execution_count": 0,
      "outputs": [
        {
          "output_type": "execute_result",
          "data": {
            "text/html": [
              "<div>\n",
              "<style scoped>\n",
              "    .dataframe tbody tr th:only-of-type {\n",
              "        vertical-align: middle;\n",
              "    }\n",
              "\n",
              "    .dataframe tbody tr th {\n",
              "        vertical-align: top;\n",
              "    }\n",
              "\n",
              "    .dataframe thead th {\n",
              "        text-align: right;\n",
              "    }\n",
              "</style>\n",
              "<table border=\"1\" class=\"dataframe\">\n",
              "  <thead>\n",
              "    <tr style=\"text-align: right;\">\n",
              "      <th></th>\n",
              "      <th>gameCreation</th>\n",
              "      <th>gameDuration</th>\n",
              "      <th>gameId</th>\n",
              "      <th>gameMode</th>\n",
              "      <th>participants</th>\n",
              "      <th>teams</th>\n",
              "    </tr>\n",
              "  </thead>\n",
              "  <tbody>\n",
              "    <tr>\n",
              "      <th>0</th>\n",
              "      <td>1554389152476</td>\n",
              "      <td>2101</td>\n",
              "      <td>3984697779</td>\n",
              "      <td>CLASSIC</td>\n",
              "      <td>[{'stats': {'neutralMinionsKilledTeamJungle': ...</td>\n",
              "      <td>[{'firstDragon': True, 'bans': [{'pickTurn': 1...</td>\n",
              "    </tr>\n",
              "    <tr>\n",
              "      <th>1</th>\n",
              "      <td>1554389111889</td>\n",
              "      <td>1914</td>\n",
              "      <td>3984697778</td>\n",
              "      <td>CLASSIC</td>\n",
              "      <td>[{'spell1Id': 14, 'participantId': 1, 'timelin...</td>\n",
              "      <td>[{'firstDragon': True, 'bans': [{'pickTurn': 1...</td>\n",
              "    </tr>\n",
              "    <tr>\n",
              "      <th>2</th>\n",
              "      <td>1554389089974</td>\n",
              "      <td>1157</td>\n",
              "      <td>3984697777</td>\n",
              "      <td>CLASSIC</td>\n",
              "      <td>[{'spell1Id': 7, 'participantId': 1, 'timeline...</td>\n",
              "      <td>[{'firstDragon': True, 'bans': [{'pickTurn': 1...</td>\n",
              "    </tr>\n",
              "    <tr>\n",
              "      <th>3</th>\n",
              "      <td>1554389127228</td>\n",
              "      <td>1539</td>\n",
              "      <td>3984697776</td>\n",
              "      <td>CLASSIC</td>\n",
              "      <td>[{'stats': {'neutralMinionsKilledTeamJungle': ...</td>\n",
              "      <td>[{'firstDragon': False, 'bans': [{'pickTurn': ...</td>\n",
              "    </tr>\n",
              "    <tr>\n",
              "      <th>4</th>\n",
              "      <td>1554389028106</td>\n",
              "      <td>1018</td>\n",
              "      <td>3984697775</td>\n",
              "      <td>ARAM</td>\n",
              "      <td>[{'stats': {'firstBloodAssist': False, 'vision...</td>\n",
              "      <td>[{'firstDragon': False, 'bans': [{'pickTurn': ...</td>\n",
              "    </tr>\n",
              "  </tbody>\n",
              "</table>\n",
              "</div>"
            ],
            "text/plain": [
              "    gameCreation  ...                                              teams\n",
              "0  1554389152476  ...  [{'firstDragon': True, 'bans': [{'pickTurn': 1...\n",
              "1  1554389111889  ...  [{'firstDragon': True, 'bans': [{'pickTurn': 1...\n",
              "2  1554389089974  ...  [{'firstDragon': True, 'bans': [{'pickTurn': 1...\n",
              "3  1554389127228  ...  [{'firstDragon': False, 'bans': [{'pickTurn': ...\n",
              "4  1554389028106  ...  [{'firstDragon': False, 'bans': [{'pickTurn': ...\n",
              "\n",
              "[5 rows x 6 columns]"
            ]
          },
          "metadata": {
            "tags": []
          },
          "execution_count": 10
        }
      ]
    },
    {
      "cell_type": "code",
      "metadata": {
        "id": "Kc4FeSW7Tjgq",
        "colab_type": "code",
        "outputId": "362faf49-9155-4a9a-dd31-9abe68df5adf",
        "colab": {
          "base_uri": "https://localhost:8080/",
          "height": 68
        }
      },
      "source": [
        "games.columns"
      ],
      "execution_count": 0,
      "outputs": [
        {
          "output_type": "execute_result",
          "data": {
            "text/plain": [
              "Index(['gameCreation', 'gameDuration', 'gameId', 'gameMode', 'participants',\n",
              "       'teams'],\n",
              "      dtype='object')"
            ]
          },
          "metadata": {
            "tags": []
          },
          "execution_count": 11
        }
      ]
    },
    {
      "cell_type": "markdown",
      "metadata": {
        "id": "jOqun-lnMTg_",
        "colab_type": "text"
      },
      "source": [
        "### Normal or ranked games filter"
      ]
    },
    {
      "cell_type": "code",
      "metadata": {
        "id": "SAPa81EVIsGU",
        "colab_type": "code",
        "colab": {}
      },
      "source": [
        "games = games.loc[games['gameMode'] == 'CLASSIC']\n",
        "#Now that is filtered it's innecessary to maintain the column gamemode\n",
        "games = games.drop(['gameMode'], axis=1)"
      ],
      "execution_count": 0,
      "outputs": []
    },
    {
      "cell_type": "markdown",
      "metadata": {
        "id": "7DYQpnhc9CUq",
        "colab_type": "text"
      },
      "source": [
        "### Once filtered by games"
      ]
    },
    {
      "cell_type": "code",
      "metadata": {
        "id": "faReb8Sx8pdm",
        "colab_type": "code",
        "outputId": "8f280eb1-dfca-4b0b-d236-4133587ac940",
        "colab": {
          "base_uri": "https://localhost:8080/",
          "height": 54
        }
      },
      "source": [
        "print(games['participants'][0])"
      ],
      "execution_count": 0,
      "outputs": [
        {
          "output_type": "stream",
          "text": [
            "[{'stats': {'neutralMinionsKilledTeamJungle': 0, 'visionScore': 76, 'magicDamageDealtToChampions': 16579, 'largestMultiKill': 1, 'totalTimeCrowdControlDealt': 108, 'longestTimeSpentLiving': 491, 'perk1Var1': 250, 'perk1Var3': 0, 'perk1Var2': 759, 'tripleKills': 0, 'perk5': 8345, 'perk4': 8313, 'playerScore9': 0, 'playerScore8': 0, 'kills': 3, 'playerScore1': 0, 'playerScore0': 0, 'playerScore3': 0, 'playerScore2': 0, 'playerScore5': 0, 'playerScore4': 0, 'playerScore7': 0, 'playerScore6': 0, 'perk5Var1': 4, 'perk5Var3': 0, 'perk5Var2': 0, 'totalScoreRank': 0, 'neutralMinionsKilled': 0, 'statPerk1': 5008, 'statPerk0': 5008, 'damageDealtToTurrets': 3385, 'physicalDamageDealtToChampions': 1387, 'damageDealtToObjectives': 6803, 'perk2Var2': 20, 'perk2Var3': 0, 'totalUnitsHealed': 8, 'perk2Var1': 22, 'perk4Var1': 0, 'totalDamageTaken': 21535, 'perk4Var3': 0, 'wardsKilled': 2, 'largestCriticalStrike': 0, 'largestKillingSpree': 2, 'quadraKills': 0, 'magicDamageDealt': 40264, 'firstBloodAssist': False, 'item2': 3107, 'item3': 3117, 'item0': 3157, 'item1': 3092, 'item6': 3364, 'item4': 3108, 'item5': 1026, 'perk1': 8226, 'perk0': 8214, 'perk3': 8236, 'perk2': 8233, 'perk3Var3': 0, 'perk3Var2': 0, 'perk3Var1': 48, 'damageSelfMitigated': 9569, 'magicalDamageTaken': 11881, 'perk0Var2': 583, 'firstInhibitorKill': False, 'trueDamageTaken': 521, 'assists': 22, 'perk4Var2': 0, 'goldSpent': 9875, 'trueDamageDealt': 2428, 'participantId': 1, 'physicalDamageDealt': 3907, 'sightWardsBoughtInGame': 0, 'totalDamageDealtToChampions': 19237, 'physicalDamageTaken': 9132, 'totalPlayerScore': 0, 'win': True, 'objectivePlayerScore': 0, 'totalDamageDealt': 46600, 'neutralMinionsKilledEnemyJungle': 0, 'deaths': 6, 'wardsPlaced': 35, 'perkPrimaryStyle': 8200, 'perkSubStyle': 8300, 'turretKills': 1, 'firstBloodKill': False, 'trueDamageDealtToChampions': 1270, 'goldEarned': 11819, 'killingSprees': 1, 'unrealKills': 0, 'firstTowerAssist': True, 'firstTowerKill': False, 'champLevel': 16, 'doubleKills': 0, 'inhibitorKills': 0, 'firstInhibitorAssist': False, 'perk0Var1': 2004, 'combatPlayerScore': 0, 'perk0Var3': 0, 'visionWardsBoughtInGame': 5, 'pentaKills': 0, 'totalHeal': 9774, 'totalMinionsKilled': 17, 'timeCCingOthers': 73, 'statPerk2': 5001}, 'spell1Id': 4, 'participantId': 1, 'highestAchievedSeasonTier': 'SILVER', 'spell2Id': 14, 'teamId': 100, 'timeline': {'lane': 'BOTTOM', 'participantId': 1, 'csDiffPerMinDeltas': {'30-end': 0.8, '20-30': -0.7000000000000001, '0-10': 0.899999999999999, '10-20': 0.14999999999999902}, 'goldPerMinDeltas': {'30-end': 428.2, '20-30': 344.3, '0-10': 205.39999999999998, '10-20': 368}, 'xpDiffPerMinDeltas': {'30-end': 258.6, '20-30': 47.19999999999999, '0-10': 52.55, '10-20': 62.950000000000045}, 'creepsPerMinDeltas': {'30-end': 1.8, '20-30': 0.5, '0-10': 0.1, '10-20': 0.2}, 'xpPerMinDeltas': {'30-end': 819.8, '20-30': 432.6, '0-10': 258.5, '10-20': 380.6}, 'role': 'DUO_SUPPORT', 'damageTakenDiffPerMinDeltas': {'30-end': 369.6, '20-30': 137.70000000000005, '0-10': -107.79999999999997, '10-20': 194.30000000000004}, 'damageTakenPerMinDeltas': {'30-end': 1099, '20-30': 742, '0-10': 265.9, '10-20': 596.1}}, 'championId': 25}, {'stats': {'neutralMinionsKilledTeamJungle': 19, 'visionScore': 17, 'magicDamageDealtToChampions': 4703, 'largestMultiKill': 2, 'totalTimeCrowdControlDealt': 96, 'longestTimeSpentLiving': 402, 'perk1Var1': 2101, 'perk1Var3': 0, 'perk1Var2': 360, 'tripleKills': 0, 'perk5': 8135, 'perk4': 8139, 'playerScore9': 0, 'playerScore8': 0, 'kills': 11, 'playerScore1': 0, 'playerScore0': 0, 'playerScore3': 0, 'playerScore2': 0, 'playerScore5': 0, 'playerScore4': 0, 'playerScore7': 0, 'playerScore6': 0, 'perk5Var1': 2390, 'perk5Var3': 0, 'perk5Var2': 5, 'totalScoreRank': 0, 'neutralMinionsKilled': 28, 'statPerk1': 5008, 'statPerk0': 5005, 'damageDealtToTurrets': 3424, 'physicalDamageDealtToChampions': 11345, 'damageDealtToObjectives': 11076, 'perk2Var2': 20, 'perk2Var3': 0, 'totalUnitsHealed': 1, 'perk2Var1': 19, 'perk4Var1': 1152, 'totalDamageTaken': 40361, 'perk4Var3': 0, 'wardsKilled': 0, 'largestCriticalStrike': 0, 'largestKillingSpree': 5, 'quadraKills': 0, 'magicDamageDealt': 20068, 'firstBloodAssist': False, 'item2': 3748, 'item3': 3047, 'item0': 3053, 'item1': 3078, 'item6': 3340, 'item4': 3026, 'item5': 3082, 'perk1': 9111, 'perk0': 8010, 'perk3': 8014, 'perk2': 9104, 'perk3Var3': 0, 'perk3Var2': 0, 'perk3Var1': 379, 'damageSelfMitigated': 29578, 'magicalDamageTaken': 15509, 'perk0Var2': 443, 'firstInhibitorKill': False, 'trueDamageTaken': 2016, 'assists': 7, 'perk4Var2': 0, 'goldSpent': 15833, 'trueDamageDealt': 19991, 'participantId': 2, 'physicalDamageDealt': 144515, 'sightWardsBoughtInGame': 0, 'totalDamageDealtToChampions': 16877, 'physicalDamageTaken': 22834, 'totalPlayerScore': 0, 'win': True, 'objectivePlayerScore': 0, 'totalDamageDealt': 184576, 'neutralMinionsKilledEnemyJungle': 4, 'deaths': 9, 'wardsPlaced': 11, 'perkPrimaryStyle': 8000, 'perkSubStyle': 8100, 'turretKills': 1, 'firstBloodKill': False, 'trueDamageDealtToChampions': 829, 'goldEarned': 15728, 'killingSprees': 3, 'unrealKills': 0, 'firstTowerAssist': False, 'firstTowerKill': False, 'champLevel': 18, 'doubleKills': 1, 'inhibitorKills': 0, 'firstInhibitorAssist': True, 'perk0Var1': 765, 'combatPlayerScore': 0, 'perk0Var3': 800, 'visionWardsBoughtInGame': 0, 'pentaKills': 0, 'totalHeal': 12200, 'totalMinionsKilled': 189, 'timeCCingOthers': 14, 'statPerk2': 5001}, 'spell1Id': 4, 'participantId': 2, 'highestAchievedSeasonTier': 'SILVER', 'spell2Id': 12, 'teamId': 100, 'timeline': {'lane': 'TOP', 'participantId': 2, 'csDiffPerMinDeltas': {'30-end': 5.4, '20-30': -0.8, '0-10': -1.799999999999999, '10-20': -2.3}, 'goldPerMinDeltas': {'30-end': 693.8, '20-30': 533, '0-10': 211, '10-20': 431.8}, 'xpDiffPerMinDeltas': {'30-end': 527.5999999999999, '20-30': 91.60000000000005, '0-10': -138.2, '10-20': -114.90000000000003}, 'creepsPerMinDeltas': {'30-end': 6.2, '20-30': 5.1, '0-10': 5, '10-20': 5.7}, 'xpPerMinDeltas': {'30-end': 826.4, '20-30': 596.7, '0-10': 364.79999999999995, '10-20': 506.3}, 'role': 'SOLO', 'damageTakenDiffPerMinDeltas': {'30-end': 516, '20-30': 150.60000000000002, '0-10': 69.6, '10-20': 135.29999999999995}, 'damageTakenPerMinDeltas': {'30-end': 2274.4, '20-30': 1517.3, '0-10': 451.1, '10-20': 930.5}}, 'championId': 39}, {'spell1Id': 14, 'participantId': 3, 'timeline': {'lane': 'MIDDLE', 'participantId': 3, 'csDiffPerMinDeltas': {'30-end': -2.6, '20-30': 1.7000000000000002, '0-10': -3, '10-20': -0.8}, 'goldPerMinDeltas': {'30-end': 743.4, '20-30': 507.20000000000005, '0-10': 328, '10-20': 447.4}, 'xpDiffPerMinDeltas': {'30-end': 294.6, '20-30': 175.4, '0-10': -9.099999999999966, '10-20': 10.100000000000023}, 'creepsPerMinDeltas': {'30-end': 3.4, '20-30': 3.7, '0-10': 5, '10-20': 5.5}, 'xpPerMinDeltas': {'30-end': 927.2, '20-30': 541.5, '0-10': 433.5, '10-20': 483.6}, 'role': 'SOLO', 'damageTakenDiffPerMinDeltas': {'30-end': 250, '20-30': -77.79999999999995, '0-10': 82.00000000000003, '10-20': -127.49999999999997}, 'damageTakenPerMinDeltas': {'30-end': 1222.8, '20-30': 811.2, '0-10': 433.1, '10-20': 446.4}}, 'spell2Id': 4, 'teamId': 100, 'stats': {'neutralMinionsKilledTeamJungle': 5, 'visionScore': 28, 'magicDamageDealtToChampions': 23832, 'largestMultiKill': 2, 'totalTimeCrowdControlDealt': 173, 'longestTimeSpentLiving': 1367, 'perk1Var1': 607, 'perk1Var3': 0, 'perk1Var2': 0, 'tripleKills': 0, 'perk5': 8429, 'perk4': 8446, 'playerScore9': 0, 'playerScore8': 0, 'kills': 18, 'playerScore1': 0, 'playerScore0': 0, 'playerScore3': 0, 'playerScore2': 0, 'playerScore5': 0, 'playerScore4': 0, 'playerScore7': 0, 'playerScore6': 0, 'perk5Var1': 71, 'perk5Var3': 13, 'perk5Var2': 15, 'totalScoreRank': 0, 'neutralMinionsKilled': 16, 'statPerk1': 5008, 'statPerk0': 5008, 'damageDealtToTurrets': 5804, 'physicalDamageDealtToChampions': 3426, 'damageDealtToObjectives': 16545, 'perk2Var2': 0, 'perk2Var3': 0, 'totalUnitsHealed': 1, 'perk2Var1': 30, 'perk4Var1': 1825, 'totalDamageTaken': 23021, 'perk4Var3': 0, 'wardsKilled': 0, 'largestCriticalStrike': 0, 'largestKillingSpree': 11, 'quadraKills': 0, 'magicDamageDealt': 103305, 'firstBloodAssist': False, 'item2': 3089, 'item3': 3100, 'item0': 3158, 'item1': 3157, 'item6': 3340, 'item4': 3102, 'item5': 3916, 'perk1': 8126, 'perk0': 8112, 'perk3': 8134, 'perk2': 8138, 'perk3Var3': 0, 'perk3Var2': 5, 'perk3Var1': 29, 'damageSelfMitigated': 11817, 'magicalDamageTaken': 12380, 'perk0Var2': 0, 'firstInhibitorKill': False, 'trueDamageTaken': 2533, 'assists': 9, 'perk4Var2': 0, 'goldSpent': 16050, 'trueDamageDealt': 4599, 'participantId': 3, 'physicalDamageDealt': 24436, 'sightWardsBoughtInGame': 0, 'totalDamageDealtToChampions': 28509, 'physicalDamageTaken': 8107, 'totalPlayerScore': 0, 'win': True, 'objectivePlayerScore': 0, 'totalDamageDealt': 132342, 'neutralMinionsKilledEnemyJungle': 4, 'deaths': 4, 'wardsPlaced': 17, 'perkPrimaryStyle': 8100, 'perkSubStyle': 8400, 'turretKills': 1, 'firstBloodKill': False, 'trueDamageDealtToChampions': 1251, 'goldEarned': 17044, 'killingSprees': 3, 'unrealKills': 0, 'firstTowerAssist': False, 'firstTowerKill': False, 'champLevel': 18, 'doubleKills': 2, 'inhibitorKills': 0, 'firstInhibitorAssist': True, 'perk0Var1': 1036, 'combatPlayerScore': 0, 'perk0Var3': 0, 'visionWardsBoughtInGame': 0, 'pentaKills': 0, 'totalHeal': 2860, 'totalMinionsKilled': 159, 'timeCCingOthers': 13, 'statPerk2': 5001}, 'championId': 105}, {'stats': {'neutralMinionsKilledTeamJungle': 28, 'visionScore': 24, 'magicDamageDealtToChampions': 4404, 'largestMultiKill': 1, 'totalTimeCrowdControlDealt': 227, 'longestTimeSpentLiving': 1033, 'perk1Var1': 1682, 'perk1Var3': 0, 'perk1Var2': 540, 'tripleKills': 0, 'perk5': 8233, 'perk4': 8226, 'playerScore9': 0, 'playerScore8': 0, 'kills': 8, 'playerScore1': 0, 'playerScore0': 0, 'playerScore3': 0, 'playerScore2': 0, 'playerScore5': 0, 'playerScore4': 0, 'playerScore7': 0, 'playerScore6': 0, 'perk5Var1': 20, 'perk5Var3': 0, 'perk5Var2': 30, 'totalScoreRank': 0, 'neutralMinionsKilled': 48, 'statPerk1': 5008, 'statPerk0': 5005, 'damageDealtToTurrets': 13428, 'physicalDamageDealtToChampions': 19465, 'damageDealtToObjectives': 39102, 'perk2Var2': 30, 'perk2Var3': 0, 'totalUnitsHealed': 4, 'perk2Var1': 11, 'perk4Var1': 250, 'totalDamageTaken': 29909, 'perk4Var3': 0, 'wardsKilled': 2, 'largestCriticalStrike': 749, 'largestKillingSpree': 5, 'quadraKills': 0, 'magicDamageDealt': 29128, 'firstBloodAssist': False, 'item2': 3157, 'item3': 3085, 'item0': 3153, 'item1': 3124, 'item6': 3340, 'item4': 3006, 'item5': 3031, 'perk1': 9111, 'perk0': 8008, 'perk3': 8014, 'perk2': 9104, 'perk3Var3': 0, 'perk3Var2': 0, 'perk3Var1': 433, 'damageSelfMitigated': 11497, 'magicalDamageTaken': 16159, 'perk0Var2': 20, 'firstInhibitorKill': False, 'trueDamageTaken': 944, 'assists': 19, 'perk4Var2': 696, 'goldSpent': 16850, 'trueDamageDealt': 14397, 'participantId': 4, 'physicalDamageDealt': 237419, 'sightWardsBoughtInGame': 0, 'totalDamageDealtToChampions': 24186, 'physicalDamageTaken': 12804, 'totalPlayerScore': 0, 'win': True, 'objectivePlayerScore': 0, 'totalDamageDealt': 280946, 'neutralMinionsKilledEnemyJungle': 8, 'deaths': 4, 'wardsPlaced': 11, 'perkPrimaryStyle': 8000, 'perkSubStyle': 8200, 'turretKills': 4, 'firstBloodKill': False, 'trueDamageDealtToChampions': 316, 'goldEarned': 18008, 'killingSprees': 2, 'unrealKills': 0, 'firstTowerAssist': False, 'firstTowerKill': True, 'champLevel': 18, 'doubleKills': 0, 'inhibitorKills': 0, 'firstInhibitorAssist': True, 'perk0Var1': 2, 'combatPlayerScore': 0, 'perk0Var3': 0, 'visionWardsBoughtInGame': 0, 'pentaKills': 0, 'totalHeal': 7716, 'totalMinionsKilled': 254, 'timeCCingOthers': 24, 'statPerk2': 5002}, 'spell1Id': 4, 'participantId': 4, 'highestAchievedSeasonTier': 'GOLD', 'spell2Id': 7, 'teamId': 100, 'timeline': {'lane': 'BOTTOM', 'participantId': 4, 'csDiffPerMinDeltas': {'30-end': 0.8, '20-30': -0.7000000000000001, '0-10': 0.899999999999999, '10-20': 0.14999999999999902}, 'goldPerMinDeltas': {'30-end': 604.8, '20-30': 542.6, '0-10': 355.29999999999995, '10-20': 550.4000000000001}, 'xpDiffPerMinDeltas': {'30-end': 258.6, '20-30': 47.19999999999999, '0-10': 52.55, '10-20': 62.950000000000045}, 'creepsPerMinDeltas': {'30-end': 7.4, '20-30': 5.8, '0-10': 7.8, '10-20': 8.1}, 'xpPerMinDeltas': {'30-end': 794.6, '20-30': 620, '0-10': 387.29999999999995, '10-20': 530.7}, 'role': 'DUO_CARRY', 'damageTakenDiffPerMinDeltas': {'30-end': 369.6, '20-30': 137.70000000000005, '0-10': -107.79999999999997, '10-20': 194.30000000000004}, 'damageTakenPerMinDeltas': {'30-end': 1660.4, '20-30': 1204, '0-10': 296.20000000000005, '10-20': 660.5}}, 'championId': 110}, {'spell1Id': 4, 'participantId': 5, 'timeline': {'lane': 'JUNGLE', 'participantId': 5, 'csDiffPerMinDeltas': {'30-end': -0.399999999999999, '20-30': 1.1, '0-10': -0.4, '10-20': -0.8}, 'goldPerMinDeltas': {'30-end': 387, '20-30': 402, '0-10': 255.2, '10-20': 307.5}, 'xpDiffPerMinDeltas': {'30-end': 26, '20-30': 82.20000000000002, '0-10': -55.8, '10-20': -62.599999999999966}, 'creepsPerMinDeltas': {'30-end': 2.6, '20-30': 2.3, '0-10': 0.1, '10-20': 0.899999999999999}, 'xpPerMinDeltas': {'30-end': 758.6, '20-30': 572.8, '0-10': 311.1, '10-20': 368.6}, 'role': 'NONE', 'damageTakenDiffPerMinDeltas': {'30-end': 1324.8000000000002, '20-30': 406.9, '0-10': 94, '10-20': -110.09999999999991}, 'damageTakenPerMinDeltas': {'30-end': 2502.4, '20-30': 1491.6, '0-10': 712.3, '10-20': 1110.6}}, 'spell2Id': 11, 'teamId': 100, 'stats': {'neutralMinionsKilledTeamJungle': 63, 'visionScore': 21, 'magicDamageDealtToChampions': 7964, 'largestMultiKill': 1, 'totalTimeCrowdControlDealt': 322, 'longestTimeSpentLiving': 560, 'perk1Var1': 772, 'perk1Var3': 0, 'perk1Var2': 0, 'tripleKills': 0, 'perk5': 8224, 'perk4': 8232, 'playerScore9': 0, 'playerScore8': 0, 'kills': 3, 'playerScore1': 0, 'playerScore0': 0, 'playerScore3': 0, 'playerScore2': 0, 'playerScore5': 0, 'playerScore4': 0, 'playerScore7': 0, 'playerScore6': 0, 'perk5Var1': 1079, 'perk5Var3': 0, 'perk5Var2': 0, 'totalScoreRank': 0, 'neutralMinionsKilled': 102, 'statPerk1': 5002, 'statPerk0': 5007, 'damageDealtToTurrets': 1396, 'physicalDamageDealtToChampions': 3750, 'damageDealtToObjectives': 11492, 'perk2Var2': 0, 'perk2Var3': 0, 'totalUnitsHealed': 5, 'perk2Var1': 393, 'perk4Var1': 4, 'totalDamageTaken': 45657, 'perk4Var3': 0, 'wardsKilled': 1, 'largestCriticalStrike': 0, 'largestKillingSpree': 0, 'quadraKills': 0, 'magicDamageDealt': 73329, 'firstBloodAssist': False, 'item2': 1401, 'item3': 3010, 'item0': 3151, 'item1': 3083, 'item6': 3340, 'item4': 3111, 'item5': 1057, 'perk1': 8463, 'perk0': 8465, 'perk3': 8453, 'perk2': 8473, 'perk3Var3': 0, 'perk3Var2': 482, 'perk3Var1': 1049, 'damageSelfMitigated': 33952, 'magicalDamageTaken': 18915, 'perk0Var2': 0, 'firstInhibitorKill': True, 'trueDamageTaken': 919, 'assists': 15, 'perk4Var2': 10, 'goldSpent': 11520, 'trueDamageDealt': 10912, 'participantId': 5, 'physicalDamageDealt': 56691, 'sightWardsBoughtInGame': 0, 'totalDamageDealtToChampions': 12850, 'physicalDamageTaken': 25821, 'totalPlayerScore': 0, 'win': True, 'objectivePlayerScore': 0, 'totalDamageDealt': 140933, 'neutralMinionsKilledEnemyJungle': 10, 'deaths': 8, 'wardsPlaced': 10, 'perkPrimaryStyle': 8400, 'perkSubStyle': 8200, 'turretKills': 0, 'firstBloodKill': False, 'trueDamageDealtToChampions': 1136, 'goldEarned': 12083, 'killingSprees': 0, 'unrealKills': 0, 'firstTowerAssist': False, 'firstTowerKill': False, 'champLevel': 16, 'doubleKills': 0, 'inhibitorKills': 2, 'firstInhibitorAssist': False, 'perk0Var1': 3644, 'combatPlayerScore': 0, 'perk0Var3': 0, 'visionWardsBoughtInGame': 0, 'pentaKills': 0, 'totalHeal': 11012, 'totalMinionsKilled': 46, 'timeCCingOthers': 31, 'statPerk2': 5001}, 'championId': 113}, {'spell1Id': 14, 'participantId': 6, 'timeline': {'lane': 'BOTTOM', 'participantId': 6, 'csDiffPerMinDeltas': {'30-end': -0.8, '20-30': 0.7000000000000001, '0-10': -0.899999999999999, '10-20': -0.14999999999999902}, 'goldPerMinDeltas': {'30-end': 181.2, '20-30': 343.1, '0-10': 145.7, '10-20': 250.7}, 'xpDiffPerMinDeltas': {'30-end': -258.6, '20-30': -47.19999999999999, '0-10': -52.55, '10-20': -62.950000000000045}, 'creepsPerMinDeltas': {'30-end': 2.4, '20-30': 0.2, '0-10': 1.7000000000000002, '10-20': 0.8}, 'xpPerMinDeltas': {'30-end': 510.6, '20-30': 387.6, '0-10': 289.6, '10-20': 249.2}, 'role': 'DUO_SUPPORT', 'damageTakenDiffPerMinDeltas': {'30-end': -369.6, '20-30': -137.70000000000005, '0-10': 107.79999999999997, '10-20': -194.30000000000004}, 'damageTakenPerMinDeltas': {'30-end': 921.8, '20-30': 1203.7, '0-10': 412.2, '10-20': 633.3}}, 'spell2Id': 4, 'teamId': 200, 'stats': {'neutralMinionsKilledTeamJungle': 0, 'visionScore': 20, 'magicDamageDealtToChampions': 0, 'largestMultiKill': 1, 'totalTimeCrowdControlDealt': 155, 'longestTimeSpentLiving': 540, 'perk1Var1': 244, 'perk1Var3': 0, 'perk1Var2': 0, 'tripleKills': 0, 'perk5': 8236, 'perk4': 8210, 'playerScore9': 0, 'playerScore8': 0, 'kills': 5, 'playerScore1': 0, 'playerScore0': 0, 'playerScore3': 0, 'playerScore2': 0, 'playerScore5': 0, 'playerScore4': 0, 'playerScore7': 0, 'playerScore6': 0, 'perk5Var1': 28, 'perk5Var3': 0, 'perk5Var2': 0, 'totalScoreRank': 0, 'neutralMinionsKilled': 4, 'statPerk1': 5008, 'statPerk0': 5008, 'damageDealtToTurrets': 0, 'physicalDamageDealtToChampions': 8396, 'damageDealtToObjectives': 0, 'perk2Var2': 0, 'perk2Var3': 0, 'totalUnitsHealed': 5, 'perk2Var1': 10, 'perk4Var1': 0, 'totalDamageTaken': 27101, 'perk4Var3': 0, 'wardsKilled': 1, 'largestCriticalStrike': 0, 'largestKillingSpree': 0, 'quadraKills': 0, 'magicDamageDealt': 0, 'firstBloodAssist': False, 'item2': 2031, 'item3': 3147, 'item0': 3117, 'item1': 3142, 'item6': 3340, 'item4': 3134, 'item5': 3302, 'perk1': 8126, 'perk0': 8112, 'perk3': 8106, 'perk2': 8138, 'perk3Var3': 0, 'perk3Var2': 0, 'perk3Var1': 4, 'damageSelfMitigated': 15194, 'magicalDamageTaken': 12471, 'perk0Var2': 0, 'firstInhibitorKill': False, 'trueDamageTaken': 1049, 'assists': 4, 'perk4Var2': 0, 'goldSpent': 8450, 'trueDamageDealt': 4507, 'participantId': 6, 'physicalDamageDealt': 28624, 'sightWardsBoughtInGame': 0, 'totalDamageDealtToChampions': 10920, 'physicalDamageTaken': 13579, 'totalPlayerScore': 0, 'win': False, 'objectivePlayerScore': 0, 'totalDamageDealt': 33132, 'neutralMinionsKilledEnemyJungle': 0, 'deaths': 11, 'wardsPlaced': 11, 'perkPrimaryStyle': 8100, 'perkSubStyle': 8200, 'turretKills': 0, 'firstBloodKill': False, 'trueDamageDealtToChampions': 2524, 'goldEarned': 8802, 'killingSprees': 0, 'unrealKills': 0, 'firstTowerAssist': False, 'firstTowerKill': False, 'champLevel': 14, 'doubleKills': 0, 'inhibitorKills': 0, 'firstInhibitorAssist': False, 'perk0Var1': 556, 'combatPlayerScore': 0, 'perk0Var3': 0, 'visionWardsBoughtInGame': 0, 'pentaKills': 0, 'totalHeal': 6202, 'totalMinionsKilled': 39, 'timeCCingOthers': 25, 'statPerk2': 5001}, 'championId': 555}, {'spell1Id': 7, 'participantId': 7, 'timeline': {'lane': 'BOTTOM', 'participantId': 7, 'csDiffPerMinDeltas': {'30-end': -0.8, '20-30': 0.7000000000000001, '0-10': -0.899999999999999, '10-20': -0.14999999999999902}, 'goldPerMinDeltas': {'30-end': 345.8, '20-30': 453, '0-10': 206.8, '10-20': 408.1}, 'xpDiffPerMinDeltas': {'30-end': -258.6, '20-30': -47.19999999999999, '0-10': -52.55, '10-20': -62.950000000000045}, 'creepsPerMinDeltas': {'30-end': 5.2, '20-30': 7.5, '0-10': 4.4, '10-20': 7.2}, 'xpPerMinDeltas': {'30-end': 586.6, '20-30': 570.6, '0-10': 251.1, '10-20': 536.2}, 'role': 'DUO_CARRY', 'damageTakenDiffPerMinDeltas': {'30-end': -369.6, '20-30': -137.70000000000005, '0-10': 107.79999999999997, '10-20': -194.30000000000004}, 'damageTakenPerMinDeltas': {'30-end': 1098.4, '20-30': 466.9, '0-10': 365.5, '10-20': 234.7}}, 'spell2Id': 4, 'teamId': 200, 'stats': {'neutralMinionsKilledTeamJungle': 4, 'visionScore': 16, 'magicDamageDealtToChampions': 2334, 'largestMultiKill': 1, 'totalTimeCrowdControlDealt': 30, 'longestTimeSpentLiving': 1028, 'perk1Var1': 96, 'perk1Var3': 0, 'perk1Var2': 220, 'tripleKills': 0, 'perk5': 8236, 'perk4': 8234, 'playerScore9': 0, 'playerScore8': 0, 'kills': 4, 'playerScore1': 0, 'playerScore0': 0, 'playerScore3': 0, 'playerScore2': 0, 'playerScore5': 0, 'playerScore4': 0, 'playerScore7': 0, 'playerScore6': 0, 'perk5Var1': 28, 'perk5Var3': 0, 'perk5Var2': 0, 'totalScoreRank': 0, 'neutralMinionsKilled': 8, 'statPerk1': 5002, 'statPerk0': 5005, 'damageDealtToTurrets': 548, 'physicalDamageDealtToChampions': 16580, 'damageDealtToObjectives': 4749, 'perk2Var2': 0, 'perk2Var3': 0, 'totalUnitsHealed': 2, 'perk2Var1': 18, 'perk4Var1': 7966, 'totalDamageTaken': 16163, 'perk4Var3': 0, 'wardsKilled': 0, 'largestCriticalStrike': 996, 'largestKillingSpree': 4, 'quadraKills': 0, 'magicDamageDealt': 23222, 'firstBloodAssist': False, 'item2': 3006, 'item3': 3087, 'item0': 1038, 'item1': 3031, 'item6': 3340, 'item4': 3094, 'item5': 1053, 'perk1': 9111, 'perk0': 8021, 'perk3': 8014, 'perk2': 9104, 'perk3Var3': 0, 'perk3Var2': 0, 'perk3Var1': 258, 'damageSelfMitigated': 6930, 'magicalDamageTaken': 8741, 'perk0Var2': 0, 'firstInhibitorKill': False, 'trueDamageTaken': 483, 'assists': 7, 'perk4Var2': 0, 'goldSpent': 12400, 'trueDamageDealt': 3695, 'participantId': 7, 'physicalDamageDealt': 160361, 'sightWardsBoughtInGame': 0, 'totalDamageDealtToChampions': 18915, 'physicalDamageTaken': 6938, 'totalPlayerScore': 0, 'win': False, 'objectivePlayerScore': 0, 'totalDamageDealt': 187278, 'neutralMinionsKilledEnemyJungle': 0, 'deaths': 6, 'wardsPlaced': 11, 'perkPrimaryStyle': 8000, 'perkSubStyle': 8200, 'turretKills': 0, 'firstBloodKill': False, 'trueDamageDealtToChampions': 0, 'goldEarned': 12909, 'killingSprees': 1, 'unrealKills': 0, 'firstTowerAssist': False, 'firstTowerKill': False, 'champLevel': 17, 'doubleKills': 0, 'inhibitorKills': 0, 'firstInhibitorAssist': False, 'perk0Var1': 1451, 'combatPlayerScore': 0, 'perk0Var3': 0, 'visionWardsBoughtInGame': 0, 'pentaKills': 0, 'totalHeal': 3066, 'totalMinionsKilled': 217, 'timeCCingOthers': 13, 'statPerk2': 5001}, 'championId': 51}, {'spell1Id': 4, 'participantId': 8, 'timeline': {'lane': 'TOP', 'participantId': 8, 'csDiffPerMinDeltas': {'30-end': -5.4, '20-30': 0.8, '0-10': 1.799999999999999, '10-20': 2.3}, 'goldPerMinDeltas': {'30-end': 229.2, '20-30': 390.5, '0-10': 324, '10-20': 508.5}, 'xpDiffPerMinDeltas': {'30-end': -527.5999999999999, '20-30': -91.60000000000005, '0-10': 138.2, '10-20': 114.90000000000003}, 'creepsPerMinDeltas': {'30-end': 0.8, '20-30': 5.9, '0-10': 6.8, '10-20': 8}, 'xpPerMinDeltas': {'30-end': 298.8, '20-30': 505.1, '0-10': 503, '10-20': 621.2}, 'role': 'SOLO', 'damageTakenDiffPerMinDeltas': {'30-end': -516, '20-30': -150.60000000000002, '0-10': -69.6, '10-20': -135.29999999999995}, 'damageTakenPerMinDeltas': {'30-end': 1758.4, '20-30': 1366.6999999999998, '0-10': 381.5, '10-20': 795.2}}, 'spell2Id': 12, 'teamId': 200, 'stats': {'neutralMinionsKilledTeamJungle': 4, 'visionScore': 16, 'magicDamageDealtToChampions': 5614, 'largestMultiKill': 2, 'totalTimeCrowdControlDealt': 128, 'longestTimeSpentLiving': 580, 'perk1Var1': 862, 'perk1Var3': 0, 'perk1Var2': 280, 'tripleKills': 0, 'perk5': 8352, 'perk4': 8304, 'playerScore9': 0, 'playerScore8': 0, 'kills': 7, 'playerScore1': 0, 'playerScore0': 0, 'playerScore3': 0, 'playerScore2': 0, 'playerScore5': 0, 'playerScore4': 0, 'playerScore7': 0, 'playerScore6': 0, 'perk5Var1': 189, 'perk5Var3': 641, 'perk5Var2': 1014, 'totalScoreRank': 0, 'neutralMinionsKilled': 16, 'statPerk1': 5008, 'statPerk0': 5005, 'damageDealtToTurrets': 1645, 'physicalDamageDealtToChampions': 19075, 'damageDealtToObjectives': 10802, 'perk2Var2': 10, 'perk2Var3': 0, 'totalUnitsHealed': 1, 'perk2Var1': 27, 'perk4Var1': 9, 'totalDamageTaken': 34226, 'perk4Var3': 0, 'wardsKilled': 0, 'largestCriticalStrike': 0, 'largestKillingSpree': 3, 'quadraKills': 0, 'magicDamageDealt': 33729, 'firstBloodAssist': False, 'item2': 3078, 'item3': 3161, 'item0': 3053, 'item1': 2033, 'item6': 3340, 'item4': 3111, 'item5': 3052, 'perk1': 9111, 'perk0': 8010, 'perk3': 8299, 'perk2': 9103, 'perk3Var3': 0, 'perk3Var2': 0, 'perk3Var1': 975, 'damageSelfMitigated': 31881, 'magicalDamageTaken': 12160, 'perk0Var2': 1002, 'firstInhibitorKill': False, 'trueDamageTaken': 1714, 'assists': 7, 'perk4Var2': 0, 'goldSpent': 14643, 'trueDamageDealt': 6404, 'participantId': 8, 'physicalDamageDealt': 144072, 'sightWardsBoughtInGame': 0, 'totalDamageDealtToChampions': 26530, 'physicalDamageTaken': 20350, 'totalPlayerScore': 0, 'win': False, 'objectivePlayerScore': 0, 'totalDamageDealt': 184205, 'neutralMinionsKilledEnemyJungle': 4, 'deaths': 7, 'wardsPlaced': 10, 'perkPrimaryStyle': 8000, 'perkSubStyle': 8300, 'turretKills': 0, 'firstBloodKill': False, 'trueDamageDealtToChampions': 1840, 'goldEarned': 13877, 'killingSprees': 3, 'unrealKills': 0, 'firstTowerAssist': False, 'firstTowerKill': False, 'champLevel': 17, 'doubleKills': 2, 'inhibitorKills': 0, 'firstInhibitorAssist': False, 'perk0Var1': 1840, 'combatPlayerScore': 0, 'perk0Var3': 2030, 'visionWardsBoughtInGame': 0, 'pentaKills': 0, 'totalHeal': 3702, 'totalMinionsKilled': 211, 'timeCCingOthers': 20, 'statPerk2': 5002}, 'championId': 24}, {'stats': {'neutralMinionsKilledTeamJungle': 5, 'visionScore': 21, 'magicDamageDealtToChampions': 37264, 'largestMultiKill': 2, 'totalTimeCrowdControlDealt': 200, 'longestTimeSpentLiving': 468, 'perk1Var1': 250, 'perk1Var3': 0, 'perk1Var2': 1349, 'tripleKills': 0, 'perk5': 8347, 'perk4': 8313, 'playerScore9': 0, 'playerScore8': 0, 'kills': 6, 'playerScore1': 0, 'playerScore0': 0, 'playerScore3': 0, 'playerScore2': 0, 'playerScore5': 0, 'playerScore4': 0, 'playerScore7': 0, 'playerScore6': 0, 'perk5Var1': 0, 'perk5Var3': 0, 'perk5Var2': 0, 'totalScoreRank': 0, 'neutralMinionsKilled': 9, 'statPerk1': 5008, 'statPerk0': 5008, 'damageDealtToTurrets': 3130, 'physicalDamageDealtToChampions': 1153, 'damageDealtToObjectives': 3539, 'perk2Var2': 0, 'perk2Var3': 0, 'totalUnitsHealed': 1, 'perk2Var1': 0, 'perk4Var1': 0, 'totalDamageTaken': 23004, 'perk4Var3': 0, 'wardsKilled': 0, 'largestCriticalStrike': 0, 'largestKillingSpree': 2, 'quadraKills': 0, 'magicDamageDealt': 163250, 'firstBloodAssist': False, 'item2': 3285, 'item3': 3020, 'item0': 3157, 'item1': 3089, 'item6': 3340, 'item4': 3916, 'item5': 1026, 'perk1': 8226, 'perk0': 8229, 'perk3': 8236, 'perk2': 8210, 'perk3Var3': 0, 'perk3Var2': 0, 'perk3Var1': 48, 'damageSelfMitigated': 10995, 'magicalDamageTaken': 14531, 'perk0Var2': 0, 'firstInhibitorKill': False, 'trueDamageTaken': 752, 'assists': 12, 'perk4Var2': 0, 'goldSpent': 13725, 'trueDamageDealt': 6468, 'participantId': 9, 'physicalDamageDealt': 7244, 'sightWardsBoughtInGame': 0, 'totalDamageDealtToChampions': 38418, 'physicalDamageTaken': 7719, 'totalPlayerScore': 0, 'win': False, 'objectivePlayerScore': 0, 'totalDamageDealt': 176963, 'neutralMinionsKilledEnemyJungle': 0, 'deaths': 9, 'wardsPlaced': 13, 'perkPrimaryStyle': 8200, 'perkSubStyle': 8300, 'turretKills': 1, 'firstBloodKill': True, 'trueDamageDealtToChampions': 0, 'goldEarned': 14704, 'killingSprees': 2, 'unrealKills': 0, 'firstTowerAssist': False, 'firstTowerKill': False, 'champLevel': 16, 'doubleKills': 1, 'inhibitorKills': 0, 'firstInhibitorAssist': False, 'perk0Var1': 2994, 'combatPlayerScore': 0, 'perk0Var3': 0, 'visionWardsBoughtInGame': 1, 'pentaKills': 0, 'totalHeal': 2130, 'totalMinionsKilled': 193, 'timeCCingOthers': 37, 'statPerk2': 5001}, 'spell1Id': 12, 'participantId': 9, 'highestAchievedSeasonTier': 'GOLD', 'spell2Id': 4, 'teamId': 200, 'timeline': {'lane': 'MIDDLE', 'participantId': 9, 'csDiffPerMinDeltas': {'30-end': 2.6, '20-30': -1.7000000000000002, '0-10': 3, '10-20': 0.8}, 'goldPerMinDeltas': {'30-end': 487.2, '20-30': 323.29999999999995, '0-10': 363.4, '10-20': 490}, 'xpDiffPerMinDeltas': {'30-end': -294.6, '20-30': -175.4, '0-10': 9.099999999999966, '10-20': -10.100000000000023}, 'creepsPerMinDeltas': {'30-end': 6, '20-30': 2, '0-10': 8, '10-20': 6.300000000000001}, 'xpPerMinDeltas': {'30-end': 632.6, '20-30': 366.1, '0-10': 442.6, '10-20': 473.5}, 'role': 'SOLO', 'damageTakenDiffPerMinDeltas': {'30-end': -250, '20-30': 77.79999999999995, '0-10': -82.00000000000003, '10-20': 127.49999999999997}, 'damageTakenPerMinDeltas': {'30-end': 972.8, '20-30': 889, '0-10': 351.1, '10-20': 573.9}}, 'championId': 101}, {'stats': {'neutralMinionsKilledTeamJungle': 120, 'visionScore': 17, 'magicDamageDealtToChampions': 24946, 'largestMultiKill': 2, 'totalTimeCrowdControlDealt': 127, 'longestTimeSpentLiving': 486, 'perk1Var1': 511, 'perk1Var3': 0, 'perk1Var2': 0, 'tripleKills': 0, 'perk5': 8014, 'perk4': 8009, 'playerScore9': 0, 'playerScore8': 0, 'kills': 9, 'playerScore1': 0, 'playerScore0': 0, 'playerScore3': 0, 'playerScore2': 0, 'playerScore5': 0, 'playerScore4': 0, 'playerScore7': 0, 'playerScore6': 0, 'perk5Var1': 486, 'perk5Var3': 0, 'perk5Var2': 0, 'totalScoreRank': 0, 'neutralMinionsKilled': 144, 'statPerk1': 5008, 'statPerk0': 5008, 'damageDealtToTurrets': 0, 'physicalDamageDealtToChampions': 310, 'damageDealtToObjectives': 15850, 'perk2Var2': 12, 'perk2Var3': 6, 'totalUnitsHealed': 1, 'perk2Var1': 0, 'perk4Var1': 2406, 'totalDamageTaken': 35125, 'perk4Var3': 0, 'wardsKilled': 0, 'largestCriticalStrike': 0, 'largestKillingSpree': 2, 'quadraKills': 0, 'magicDamageDealt': 176257, 'firstBloodAssist': False, 'item2': 3020, 'item3': 3165, 'item0': 3157, 'item1': 2031, 'item6': 3340, 'item4': 1058, 'item5': 1402, 'perk1': 8126, 'perk0': 8128, 'perk3': 8135, 'perk2': 8120, 'perk3Var3': 0, 'perk3Var2': 5, 'perk3Var1': 9886, 'damageSelfMitigated': 19387, 'magicalDamageTaken': 12746, 'perk0Var2': 17, 'firstInhibitorKill': False, 'trueDamageTaken': 801, 'assists': 8, 'perk4Var2': 104, 'goldSpent': 11100, 'trueDamageDealt': 9265, 'participantId': 10, 'physicalDamageDealt': 5504, 'sightWardsBoughtInGame': 0, 'totalDamageDealtToChampions': 25828, 'physicalDamageTaken': 21577, 'totalPlayerScore': 0, 'win': False, 'objectivePlayerScore': 0, 'totalDamageDealt': 191027, 'neutralMinionsKilledEnemyJungle': 0, 'deaths': 10, 'wardsPlaced': 8, 'perkPrimaryStyle': 8100, 'perkSubStyle': 8000, 'turretKills': 1, 'firstBloodKill': False, 'trueDamageDealtToChampions': 571, 'goldEarned': 13750, 'killingSprees': 3, 'unrealKills': 0, 'firstTowerAssist': False, 'firstTowerKill': False, 'champLevel': 17, 'doubleKills': 1, 'inhibitorKills': 0, 'firstInhibitorAssist': False, 'perk0Var1': 1365, 'combatPlayerScore': 0, 'perk0Var3': 728, 'visionWardsBoughtInGame': 1, 'pentaKills': 0, 'totalHeal': 13595, 'totalMinionsKilled': 49, 'timeCCingOthers': 14, 'statPerk2': 5002}, 'spell1Id': 11, 'participantId': 10, 'highestAchievedSeasonTier': 'BRONZE', 'spell2Id': 4, 'teamId': 200, 'timeline': {'lane': 'JUNGLE', 'participantId': 10, 'csDiffPerMinDeltas': {'30-end': 0.399999999999999, '20-30': -1.1, '0-10': 0.4, '10-20': 0.8}, 'goldPerMinDeltas': {'30-end': 594.6, '20-30': 319.3, '0-10': 365.4, '10-20': 342.9}, 'xpDiffPerMinDeltas': {'30-end': -26, '20-30': -82.20000000000002, '0-10': 55.8, '10-20': 62.599999999999966}, 'creepsPerMinDeltas': {'30-end': 3, '20-30': 1.2, '0-10': 0.5, '10-20': 1.7000000000000002}, 'xpPerMinDeltas': {'30-end': 732.6, '20-30': 490.6, '0-10': 366.9, '10-20': 431.2}, 'role': 'NONE', 'damageTakenDiffPerMinDeltas': {'30-end': -1324.8000000000002, '20-30': -406.9, '0-10': -94, '10-20': 110.09999999999991}, 'damageTakenPerMinDeltas': {'30-end': 1177.6, '20-30': 1084.7, '0-10': 618.3, '10-20': 1220.6999999999998}}, 'championId': 30}]\n"
          ],
          "name": "stdout"
        }
      ]
    },
    {
      "cell_type": "code",
      "metadata": {
        "colab_type": "code",
        "id": "OMzTiHi9SvLS",
        "outputId": "45f95ed7-629c-4aa2-b8c6-900ac8a6c6e7",
        "colab": {
          "base_uri": "https://localhost:8080/",
          "height": 54
        }
      },
      "source": [
        "print(games['teams'][0])"
      ],
      "execution_count": 0,
      "outputs": [
        {
          "output_type": "stream",
          "text": [
            "[{'firstDragon': True, 'bans': [{'pickTurn': 1, 'championId': 10}, {'pickTurn': 2, 'championId': 35}, {'pickTurn': 3, 'championId': 36}, {'pickTurn': 4, 'championId': -1}, {'pickTurn': 5, 'championId': 90}], 'firstInhibitor': True, 'win': 'Win', 'firstRiftHerald': False, 'firstBaron': True, 'baronKills': 2, 'riftHeraldKills': 0, 'firstBlood': False, 'teamId': 100, 'firstTower': True, 'vilemawKills': 0, 'inhibitorKills': 3, 'towerKills': 11, 'dominionVictoryScore': 0, 'dragonKills': 3}, {'firstDragon': False, 'bans': [{'pickTurn': 6, 'championId': 10}, {'pickTurn': 7, 'championId': 11}, {'pickTurn': 8, 'championId': 432}, {'pickTurn': 9, 'championId': 238}, {'pickTurn': 10, 'championId': 67}], 'firstInhibitor': False, 'win': 'Fail', 'firstRiftHerald': True, 'firstBaron': False, 'baronKills': 0, 'riftHeraldKills': 1, 'firstBlood': True, 'teamId': 200, 'firstTower': False, 'vilemawKills': 0, 'inhibitorKills': 0, 'towerKills': 3, 'dominionVictoryScore': 0, 'dragonKills': 1}]\n"
          ],
          "name": "stdout"
        }
      ]
    },
    {
      "cell_type": "code",
      "metadata": {
        "id": "nvzgnWbYOukF",
        "colab_type": "code",
        "colab": {}
      },
      "source": [
        "for key, value in games['participants'][0][0].items() :\n",
        "    print (key, value)"
      ],
      "execution_count": 0,
      "outputs": []
    },
    {
      "cell_type": "code",
      "metadata": {
        "id": "mhMMv2kB8qIc",
        "colab_type": "code",
        "colab": {}
      },
      "source": [
        "for key, value in games['participants'][0][0]['stats'].items() :\n",
        "    print (key, value)"
      ],
      "execution_count": 0,
      "outputs": []
    },
    {
      "cell_type": "code",
      "metadata": {
        "colab_type": "code",
        "id": "Ub_BwIfHSvgO",
        "outputId": "a46a2386-df52-49a6-9376-8f69fe53336f",
        "colab": {
          "base_uri": "https://localhost:8080/",
          "height": 54
        }
      },
      "source": [
        "print(games['participants'][9])"
      ],
      "execution_count": 0,
      "outputs": [
        {
          "output_type": "stream",
          "text": [
            "[{'stats': {'neutralMinionsKilledTeamJungle': 2, 'visionScore': 15, 'magicDamageDealtToChampions': 1319, 'largestMultiKill': 1, 'totalTimeCrowdControlDealt': 23, 'longestTimeSpentLiving': 323, 'perk1Var1': 500, 'perk1Var3': 0, 'perk1Var2': 0, 'tripleKills': 0, 'perk5': 8014, 'perk4': 9111, 'playerScore9': 0, 'playerScore8': 0, 'kills': 7, 'playerScore1': 0, 'playerScore0': 0, 'playerScore3': 0, 'playerScore2': 0, 'playerScore5': 0, 'playerScore4': 0, 'playerScore7': 0, 'playerScore6': 0, 'perk5Var1': 324, 'perk5Var3': 0, 'perk5Var2': 0, 'totalScoreRank': 0, 'neutralMinionsKilled': 10, 'statPerk1': 5008, 'statPerk0': 5008, 'damageDealtToTurrets': 1683, 'physicalDamageDealtToChampions': 12285, 'damageDealtToObjectives': 3962, 'perk2Var2': 0, 'perk2Var3': 0, 'totalUnitsHealed': 1, 'perk2Var1': 18, 'perk4Var1': 608, 'totalDamageTaken': 43532, 'perk4Var3': 0, 'wardsKilled': 0, 'largestCriticalStrike': 0, 'largestKillingSpree': 2, 'quadraKills': 0, 'magicDamageDealt': 6449, 'firstBloodAssist': False, 'item2': 3071, 'item3': 3211, 'item0': 3047, 'item1': 3074, 'item6': 3340, 'item4': 3067, 'item5': 0, 'perk1': 8126, 'perk0': 8112, 'perk3': 8135, 'perk2': 8138, 'perk3Var3': 0, 'perk3Var2': 4, 'perk3Var1': 1477, 'damageSelfMitigated': 19883, 'magicalDamageTaken': 18547, 'perk0Var2': 0, 'firstInhibitorKill': False, 'trueDamageTaken': 4262, 'assists': 4, 'perk4Var2': 220, 'goldSpent': 10400, 'trueDamageDealt': 7351, 'participantId': 1, 'physicalDamageDealt': 108676, 'sightWardsBoughtInGame': 0, 'totalDamageDealtToChampions': 15047, 'physicalDamageTaken': 20721, 'totalPlayerScore': 0, 'win': False, 'objectivePlayerScore': 0, 'totalDamageDealt': 122477, 'neutralMinionsKilledEnemyJungle': 0, 'deaths': 14, 'wardsPlaced': 9, 'perkPrimaryStyle': 8100, 'perkSubStyle': 8000, 'turretKills': 0, 'firstBloodKill': False, 'trueDamageDealtToChampions': 1441, 'goldEarned': 10906, 'killingSprees': 1, 'unrealKills': 0, 'firstTowerAssist': False, 'firstTowerKill': False, 'champLevel': 15, 'doubleKills': 0, 'inhibitorKills': 0, 'firstInhibitorAssist': False, 'perk0Var1': 1184, 'combatPlayerScore': 0, 'perk0Var3': 0, 'visionWardsBoughtInGame': 0, 'pentaKills': 0, 'totalHeal': 4455, 'totalMinionsKilled': 125, 'timeCCingOthers': 16, 'statPerk2': 5001}, 'spell1Id': 14, 'participantId': 1, 'highestAchievedSeasonTier': 'SILVER', 'spell2Id': 4, 'teamId': 100, 'timeline': {'lane': 'TOP', 'participantId': 1, 'csDiffPerMinDeltas': {'20-30': 1.099999999999999, '0-10': -1.5999999999999992, '10-20': -1.9}, 'goldPerMinDeltas': {'20-30': 349.70000000000005, '0-10': 255.6, '10-20': 303.8}, 'xpDiffPerMinDeltas': {'20-30': -92.00000000000003, '0-10': -60.79999999999998, '10-20': -125.09999999999997}, 'creepsPerMinDeltas': {'20-30': 2.199999999999999, '0-10': 3.7, '10-20': 5}, 'xpPerMinDeltas': {'20-30': 360.2, '0-10': 383.70000000000005, '10-20': 426.2}, 'role': 'SOLO', 'damageTakenDiffPerMinDeltas': {'20-30': 503.70000000000016, '0-10': 32.60000000000002, '10-20': 536}, 'damageTakenPerMinDeltas': {'20-30': 1572.9, '0-10': 430.9, '10-20': 1059.4}}, 'championId': 58}, {'stats': {'neutralMinionsKilledTeamJungle': 63, 'visionScore': 12, 'magicDamageDealtToChampions': 1760, 'largestMultiKill': 1, 'totalTimeCrowdControlDealt': 385, 'longestTimeSpentLiving': 413, 'perk1Var1': 2722, 'perk1Var3': 0, 'perk1Var2': 2713, 'tripleKills': 0, 'perk5': 8234, 'perk4': 8232, 'playerScore9': 0, 'playerScore8': 0, 'kills': 2, 'playerScore1': 0, 'playerScore0': 0, 'playerScore3': 0, 'playerScore2': 0, 'playerScore5': 0, 'playerScore4': 0, 'playerScore7': 0, 'playerScore6': 0, 'perk5Var1': 5759, 'perk5Var3': 0, 'perk5Var2': 0, 'totalScoreRank': 0, 'neutralMinionsKilled': 74, 'statPerk1': 5008, 'statPerk0': 5005, 'damageDealtToTurrets': 0, 'physicalDamageDealtToChampions': 8935, 'damageDealtToObjectives': 12053, 'perk2Var2': 20, 'perk2Var3': 0, 'totalUnitsHealed': 1, 'perk2Var1': 23, 'perk4Var1': 2, 'totalDamageTaken': 39902, 'perk4Var3': 0, 'wardsKilled': 0, 'largestCriticalStrike': 0, 'largestKillingSpree': 0, 'quadraKills': 0, 'magicDamageDealt': 14657, 'firstBloodAssist': False, 'item2': 1001, 'item3': 3742, 'item0': 1412, 'item1': 3144, 'item6': 3340, 'item4': 1043, 'item5': 0, 'perk1': 9101, 'perk0': 8005, 'perk3': 8014, 'perk2': 9104, 'perk3Var3': 0, 'perk3Var2': 0, 'perk3Var1': 130, 'damageSelfMitigated': 25104, 'magicalDamageTaken': 17068, 'perk0Var2': 344, 'firstInhibitorKill': False, 'trueDamageTaken': 2502, 'assists': 4, 'perk4Var2': 40, 'goldSpent': 8575, 'trueDamageDealt': 17987, 'participantId': 2, 'physicalDamageDealt': 89646, 'sightWardsBoughtInGame': 0, 'totalDamageDealtToChampions': 11182, 'physicalDamageTaken': 20330, 'totalPlayerScore': 0, 'win': False, 'objectivePlayerScore': 0, 'totalDamageDealt': 122292, 'neutralMinionsKilledEnemyJungle': 0, 'deaths': 12, 'wardsPlaced': 7, 'perkPrimaryStyle': 8000, 'perkSubStyle': 8200, 'turretKills': 0, 'firstBloodKill': False, 'trueDamageDealtToChampions': 486, 'goldEarned': 9331, 'killingSprees': 0, 'unrealKills': 0, 'firstTowerAssist': False, 'firstTowerKill': False, 'champLevel': 15, 'doubleKills': 0, 'inhibitorKills': 0, 'firstInhibitorAssist': False, 'perk0Var1': 486, 'combatPlayerScore': 0, 'perk0Var3': 142, 'visionWardsBoughtInGame': 0, 'pentaKills': 0, 'totalHeal': 10270, 'totalMinionsKilled': 43, 'timeCCingOthers': 17, 'statPerk2': 5001}, 'spell1Id': 11, 'participantId': 2, 'highestAchievedSeasonTier': 'SILVER', 'spell2Id': 4, 'teamId': 100, 'timeline': {'lane': 'JUNGLE', 'participantId': 2, 'csDiffPerMinDeltas': {'20-30': -0.2, '0-10': -0.1, '10-20': -0.199999999999999}, 'goldPerMinDeltas': {'20-30': 265.8, '0-10': 214, '10-20': 279.8}, 'xpDiffPerMinDeltas': {'20-30': -135.80000000000004, '0-10': -33.19999999999999, '10-20': -154.3}, 'creepsPerMinDeltas': {'20-30': 2, '0-10': 0, '10-20': 0.6000000000000001}, 'xpPerMinDeltas': {'20-30': 451.2, '0-10': 255.8, '10-20': 342.2}, 'role': 'NONE', 'damageTakenDiffPerMinDeltas': {'20-30': 162.5999999999999, '0-10': 146.40000000000003, '10-20': -230.99999999999994}, 'damageTakenPerMinDeltas': {'20-30': 1400.9, '0-10': 705.7, '10-20': 892.7}}, 'championId': 5}, {'stats': {'neutralMinionsKilledTeamJungle': 0, 'visionScore': 21, 'magicDamageDealtToChampions': 13609, 'largestMultiKill': 1, 'totalTimeCrowdControlDealt': 209, 'longestTimeSpentLiving': 846, 'perk1Var1': 250, 'perk1Var3': 0, 'perk1Var2': 775, 'tripleKills': 0, 'perk5': 8345, 'perk4': 8304, 'playerScore9': 0, 'playerScore8': 0, 'kills': 2, 'playerScore1': 0, 'playerScore0': 0, 'playerScore3': 0, 'playerScore2': 0, 'playerScore5': 0, 'playerScore4': 0, 'playerScore7': 0, 'playerScore6': 0, 'perk5Var1': 4, 'perk5Var3': 0, 'perk5Var2': 0, 'totalScoreRank': 0, 'neutralMinionsKilled': 1, 'statPerk1': 5008, 'statPerk0': 5008, 'damageDealtToTurrets': 480, 'physicalDamageDealtToChampions': 388, 'damageDealtToObjectives': 480, 'perk2Var2': 0, 'perk2Var3': 0, 'totalUnitsHealed': 3, 'perk2Var1': 0, 'perk4Var1': 10, 'totalDamageTaken': 23116, 'perk4Var3': 0, 'wardsKilled': 2, 'largestCriticalStrike': 0, 'largestKillingSpree': 2, 'quadraKills': 0, 'magicDamageDealt': 76200, 'firstBloodAssist': False, 'item2': 3285, 'item3': 3165, 'item0': 3020, 'item1': 3096, 'item6': 3364, 'item4': 0, 'item5': 0, 'perk1': 8226, 'perk0': 8229, 'perk3': 8237, 'perk2': 8210, 'perk3Var3': 0, 'perk3Var2': 0, 'perk3Var1': 440, 'damageSelfMitigated': 6274, 'magicalDamageTaken': 12557, 'perk0Var2': 0, 'firstInhibitorKill': False, 'trueDamageTaken': 379, 'assists': 6, 'perk4Var2': 0, 'goldSpent': 8150, 'trueDamageDealt': 0, 'participantId': 3, 'physicalDamageDealt': 1634, 'sightWardsBoughtInGame': 0, 'totalDamageDealtToChampions': 13998, 'physicalDamageTaken': 10178, 'totalPlayerScore': 0, 'win': False, 'objectivePlayerScore': 0, 'totalDamageDealt': 77834, 'neutralMinionsKilledEnemyJungle': 0, 'deaths': 10, 'wardsPlaced': 11, 'perkPrimaryStyle': 8200, 'perkSubStyle': 8300, 'turretKills': 0, 'firstBloodKill': False, 'trueDamageDealtToChampions': 0, 'goldEarned': 9048, 'killingSprees': 1, 'unrealKills': 0, 'firstTowerAssist': False, 'firstTowerKill': False, 'champLevel': 15, 'doubleKills': 0, 'inhibitorKills': 0, 'firstInhibitorAssist': False, 'perk0Var1': 1161, 'combatPlayerScore': 0, 'perk0Var3': 0, 'visionWardsBoughtInGame': 2, 'pentaKills': 0, 'totalHeal': 7408, 'totalMinionsKilled': 51, 'timeCCingOthers': 19, 'statPerk2': 5001}, 'spell1Id': 12, 'participantId': 3, 'highestAchievedSeasonTier': 'SILVER', 'spell2Id': 4, 'teamId': 100, 'timeline': {'lane': 'BOTTOM', 'participantId': 3, 'csDiffPerMinDeltas': {'20-30': 0.14999999999999902, '0-10': -0.25, '10-20': -0.899999999999999}, 'goldPerMinDeltas': {'20-30': 256.9, '0-10': 158.7, '10-20': 283.4}, 'xpDiffPerMinDeltas': {'20-30': 85.25000000000003, '0-10': -19.599999999999966, '10-20': -25.24999999999997}, 'creepsPerMinDeltas': {'20-30': 0.9, '0-10': 0.7000000000000001, '10-20': 1}, 'xpPerMinDeltas': {'20-30': 369.29999999999995, '0-10': 264.20000000000005, '10-20': 363.1}, 'role': 'DUO_SUPPORT', 'damageTakenDiffPerMinDeltas': {'20-30': 26.949999999999932, '0-10': 117.39999999999998, '10-20': 343}, 'damageTakenPerMinDeltas': {'20-30': 896, '0-10': 331.9, '10-20': 526.4}}, 'championId': 26}, {'spell1Id': 4, 'participantId': 4, 'timeline': {'lane': 'BOTTOM', 'participantId': 4, 'csDiffPerMinDeltas': {'20-30': 0.14999999999999902, '0-10': -0.25, '10-20': -0.899999999999999}, 'goldPerMinDeltas': {'20-30': 653.8, '0-10': 229, '10-20': 523}, 'xpDiffPerMinDeltas': {'20-30': 85.25000000000003, '0-10': -19.599999999999966, '10-20': -25.24999999999997}, 'creepsPerMinDeltas': {'20-30': 4.8, '0-10': 6.199999999999999, '10-20': 6.6}, 'xpPerMinDeltas': {'20-30': 757.8, '0-10': 315.5, '10-20': 467.1}, 'role': 'DUO_CARRY', 'damageTakenDiffPerMinDeltas': {'20-30': 26.949999999999932, '0-10': 117.39999999999998, '10-20': 343}, 'damageTakenPerMinDeltas': {'20-30': 1128.1, '0-10': 493.7, '10-20': 1224.5}}, 'spell2Id': 7, 'teamId': 100, 'stats': {'neutralMinionsKilledTeamJungle': 23, 'visionScore': 13, 'magicDamageDealtToChampions': 727, 'largestMultiKill': 2, 'totalTimeCrowdControlDealt': 167, 'longestTimeSpentLiving': 654, 'perk1Var1': 10, 'perk1Var3': 0, 'perk1Var2': 0, 'tripleKills': 0, 'perk5': 9104, 'perk4': 9101, 'playerScore9': 0, 'playerScore8': 0, 'kills': 10, 'playerScore1': 0, 'playerScore0': 0, 'playerScore3': 0, 'playerScore2': 0, 'playerScore5': 0, 'playerScore4': 0, 'playerScore7': 0, 'playerScore6': 0, 'perk5Var1': 17, 'perk5Var3': 0, 'perk5Var2': 30, 'totalScoreRank': 0, 'neutralMinionsKilled': 23, 'statPerk1': 5008, 'statPerk0': 5005, 'damageDealtToTurrets': 1650, 'physicalDamageDealtToChampions': 23743, 'damageDealtToObjectives': 3521, 'perk2Var2': 0, 'perk2Var3': 0, 'totalUnitsHealed': 4, 'perk2Var1': 4, 'perk4Var1': 6709, 'totalDamageTaken': 35613, 'perk4Var3': 0, 'wardsKilled': 1, 'largestCriticalStrike': 1058, 'largestKillingSpree': 3, 'quadraKills': 0, 'magicDamageDealt': 4466, 'firstBloodAssist': False, 'item2': 3046, 'item3': 3031, 'item0': 3072, 'item1': 3094, 'item6': 3363, 'item4': 3036, 'item5': 3006, 'perk1': 8304, 'perk0': 8359, 'perk3': 8352, 'perk2': 8345, 'perk3Var3': 48, 'perk3Var2': 266, 'perk3Var1': 78, 'damageSelfMitigated': 27923, 'magicalDamageTaken': 19571, 'perk0Var2': 12, 'firstInhibitorKill': False, 'trueDamageTaken': 1495, 'assists': 4, 'perk4Var2': 4864, 'goldSpent': 16650, 'trueDamageDealt': 5620, 'participantId': 4, 'physicalDamageDealt': 206120, 'sightWardsBoughtInGame': 0, 'totalDamageDealtToChampions': 25242, 'physicalDamageTaken': 14547, 'totalPlayerScore': 0, 'win': False, 'objectivePlayerScore': 0, 'totalDamageDealt': 216207, 'neutralMinionsKilledEnemyJungle': 0, 'deaths': 8, 'wardsPlaced': 11, 'perkPrimaryStyle': 8300, 'perkSubStyle': 8000, 'turretKills': 0, 'firstBloodKill': False, 'trueDamageDealtToChampions': 772, 'goldEarned': 16862, 'killingSprees': 3, 'unrealKills': 0, 'firstTowerAssist': False, 'firstTowerKill': False, 'champLevel': 17, 'doubleKills': 2, 'inhibitorKills': 0, 'firstInhibitorAssist': False, 'perk0Var1': 310, 'combatPlayerScore': 0, 'perk0Var3': 0, 'visionWardsBoughtInGame': 1, 'pentaKills': 0, 'totalHeal': 2321, 'totalMinionsKilled': 220, 'timeCCingOthers': 11, 'statPerk2': 5002}, 'championId': 119}, {'stats': {'neutralMinionsKilledTeamJungle': 4, 'visionScore': 19, 'magicDamageDealtToChampions': 22336, 'largestMultiKill': 1, 'totalTimeCrowdControlDealt': 323, 'longestTimeSpentLiving': 599, 'perk1Var1': 250, 'perk1Var3': 0, 'perk1Var2': 1141, 'tripleKills': 0, 'perk5': 8347, 'perk4': 8316, 'playerScore9': 0, 'playerScore8': 0, 'kills': 3, 'playerScore1': 0, 'playerScore0': 0, 'playerScore3': 0, 'playerScore2': 0, 'playerScore5': 0, 'playerScore4': 0, 'playerScore7': 0, 'playerScore6': 0, 'perk5Var1': 0, 'perk5Var3': 0, 'perk5Var2': 0, 'totalScoreRank': 0, 'neutralMinionsKilled': 8, 'statPerk1': 5008, 'statPerk0': 5007, 'damageDealtToTurrets': 12106, 'physicalDamageDealtToChampions': 578, 'damageDealtToObjectives': 13090, 'perk2Var2': 0, 'perk2Var3': 0, 'totalUnitsHealed': 1, 'perk2Var1': 18, 'perk4Var1': 4650, 'totalDamageTaken': 13467, 'perk4Var3': 0, 'wardsKilled': 0, 'largestCriticalStrike': 0, 'largestKillingSpree': 2, 'quadraKills': 0, 'magicDamageDealt': 154245, 'firstBloodAssist': False, 'item2': 1052, 'item3': 3020, 'item0': 3285, 'item1': 3151, 'item6': 3340, 'item4': 3057, 'item5': 1026, 'perk1': 8226, 'perk0': 8229, 'perk3': 8237, 'perk2': 8210, 'perk3Var3': 0, 'perk3Var2': 0, 'perk3Var1': 721, 'damageSelfMitigated': 3874, 'magicalDamageTaken': 7335, 'perk0Var2': 0, 'firstInhibitorKill': False, 'trueDamageTaken': 143, 'assists': 6, 'perk4Var2': 0, 'goldSpent': 10895, 'trueDamageDealt': 30131, 'participantId': 5, 'physicalDamageDealt': 14196, 'sightWardsBoughtInGame': 0, 'totalDamageDealtToChampions': 23034, 'physicalDamageTaken': 5988, 'totalPlayerScore': 0, 'win': False, 'objectivePlayerScore': 0, 'totalDamageDealt': 198573, 'neutralMinionsKilledEnemyJungle': 0, 'deaths': 4, 'wardsPlaced': 12, 'perkPrimaryStyle': 8200, 'perkSubStyle': 8300, 'turretKills': 2, 'firstBloodKill': False, 'trueDamageDealtToChampions': 120, 'goldEarned': 10655, 'killingSprees': 1, 'unrealKills': 0, 'firstTowerAssist': False, 'firstTowerKill': False, 'champLevel': 17, 'doubleKills': 0, 'inhibitorKills': 0, 'firstInhibitorAssist': False, 'perk0Var1': 2194, 'combatPlayerScore': 0, 'perk0Var3': 0, 'visionWardsBoughtInGame': 1, 'pentaKills': 0, 'totalHeal': 893, 'totalMinionsKilled': 156, 'timeCCingOthers': 30, 'statPerk2': 5001}, 'spell1Id': 14, 'participantId': 5, 'highestAchievedSeasonTier': 'BRONZE', 'spell2Id': 4, 'teamId': 100, 'timeline': {'lane': 'MIDDLE', 'participantId': 5, 'csDiffPerMinDeltas': {'20-30': -1.1, '0-10': -2.8, '10-20': -0.899999999999999}, 'goldPerMinDeltas': {'20-30': 280.1, '0-10': 189.3, '10-20': 248.5}, 'xpDiffPerMinDeltas': {'20-30': -129.2, '0-10': -82.19999999999999, '10-20': -164.39999999999998}, 'creepsPerMinDeltas': {'20-30': 3.2, '0-10': 4.7, '10-20': 4.1}, 'xpPerMinDeltas': {'20-30': 457, '0-10': 418.3, '10-20': 392.2}, 'role': 'SOLO', 'damageTakenDiffPerMinDeltas': {'20-30': 185.50000000000003, '0-10': 60.10000000000001, '10-20': -196.79999999999998}, 'damageTakenPerMinDeltas': {'20-30': 597.1, '0-10': 264.7, '10-20': 316}}, 'championId': 115}, {'spell1Id': 21, 'participantId': 6, 'timeline': {'lane': 'MIDDLE', 'participantId': 6, 'csDiffPerMinDeltas': {'20-30': 1.1, '0-10': 2.8, '10-20': 0.899999999999999}, 'goldPerMinDeltas': {'20-30': 559.4000000000001, '0-10': 313.4, '10-20': 531.9}, 'xpDiffPerMinDeltas': {'20-30': 129.2, '0-10': 82.19999999999999, '10-20': 164.39999999999998}, 'creepsPerMinDeltas': {'20-30': 4.300000000000001, '0-10': 7.5, '10-20': 5}, 'xpPerMinDeltas': {'20-30': 586.2, '0-10': 500.5, '10-20': 556.5999999999999}, 'role': 'SOLO', 'damageTakenDiffPerMinDeltas': {'20-30': -185.50000000000003, '0-10': -60.10000000000001, '10-20': 196.79999999999998}, 'damageTakenPerMinDeltas': {'20-30': 411.6, '0-10': 204.6, '10-20': 512.8}}, 'spell2Id': 4, 'teamId': 200, 'stats': {'neutralMinionsKilledTeamJungle': 0, 'visionScore': 13, 'magicDamageDealtToChampions': 30828, 'largestMultiKill': 2, 'totalTimeCrowdControlDealt': 384, 'longestTimeSpentLiving': 1786, 'perk1Var1': 250, 'perk1Var3': 0, 'perk1Var2': 124, 'tripleKills': 0, 'perk5': 8014, 'perk4': 8009, 'playerScore9': 0, 'playerScore8': 0, 'kills': 19, 'playerScore1': 0, 'playerScore0': 0, 'playerScore3': 0, 'playerScore2': 0, 'playerScore5': 0, 'playerScore4': 0, 'playerScore7': 0, 'playerScore6': 0, 'perk5Var1': 951, 'perk5Var3': 0, 'perk5Var2': 0, 'totalScoreRank': 0, 'neutralMinionsKilled': 8, 'statPerk1': 5008, 'statPerk0': 5008, 'damageDealtToTurrets': 3193, 'physicalDamageDealtToChampions': 975, 'damageDealtToObjectives': 11088, 'perk2Var2': 0, 'perk2Var3': 0, 'totalUnitsHealed': 5, 'perk2Var1': 20, 'perk4Var1': 4649, 'totalDamageTaken': 12405, 'perk4Var3': 0, 'wardsKilled': 3, 'largestCriticalStrike': 0, 'largestKillingSpree': 15, 'quadraKills': 0, 'magicDamageDealt': 132748, 'firstBloodAssist': False, 'item2': 3020, 'item3': 3041, 'item0': 3135, 'item1': 3157, 'item6': 3340, 'item4': 3285, 'item5': 3089, 'perk1': 8226, 'perk0': 8229, 'perk3': 8236, 'perk2': 8210, 'perk3Var3': 0, 'perk3Var2': 0, 'perk3Var1': 48, 'damageSelfMitigated': 11592, 'magicalDamageTaken': 6219, 'perk0Var2': 0, 'firstInhibitorKill': False, 'trueDamageTaken': 171, 'assists': 10, 'perk4Var2': 72, 'goldSpent': 17450, 'trueDamageDealt': 6908, 'participantId': 6, 'physicalDamageDealt': 17193, 'sightWardsBoughtInGame': 0, 'totalDamageDealtToChampions': 32744, 'physicalDamageTaken': 6014, 'totalPlayerScore': 0, 'win': True, 'objectivePlayerScore': 0, 'totalDamageDealt': 156850, 'neutralMinionsKilledEnemyJungle': 0, 'deaths': 1, 'wardsPlaced': 5, 'perkPrimaryStyle': 8200, 'perkSubStyle': 8000, 'turretKills': 0, 'firstBloodKill': False, 'trueDamageDealtToChampions': 940, 'goldEarned': 17374, 'killingSprees': 2, 'unrealKills': 0, 'firstTowerAssist': False, 'firstTowerKill': False, 'champLevel': 18, 'doubleKills': 3, 'inhibitorKills': 2, 'firstInhibitorAssist': False, 'perk0Var1': 2051, 'combatPlayerScore': 0, 'perk0Var3': 0, 'visionWardsBoughtInGame': 0, 'pentaKills': 0, 'totalHeal': 3705, 'totalMinionsKilled': 177, 'timeCCingOthers': 41, 'statPerk2': 5001}, 'championId': 99}, {'spell1Id': 11, 'participantId': 7, 'timeline': {'lane': 'JUNGLE', 'participantId': 7, 'csDiffPerMinDeltas': {'20-30': 0.2, '0-10': 0.1, '10-20': 0.199999999999999}, 'goldPerMinDeltas': {'20-30': 381.3, '0-10': 263.2, '10-20': 416.20000000000005}, 'xpDiffPerMinDeltas': {'20-30': 135.80000000000004, '0-10': 33.19999999999999, '10-20': 154.3}, 'creepsPerMinDeltas': {'20-30': 2.2, '0-10': 0.1, '10-20': 0.8}, 'xpPerMinDeltas': {'20-30': 587, '0-10': 289, '10-20': 496.5}, 'role': 'NONE', 'damageTakenDiffPerMinDeltas': {'20-30': -162.5999999999999, '0-10': -146.40000000000003, '10-20': 230.99999999999994}, 'damageTakenPerMinDeltas': {'20-30': 1238.3000000000002, '0-10': 559.3, '10-20': 1123.7}}, 'spell2Id': 4, 'teamId': 200, 'stats': {'neutralMinionsKilledTeamJungle': 88, 'visionScore': 9, 'magicDamageDealtToChampions': 16441, 'largestMultiKill': 1, 'totalTimeCrowdControlDealt': 272, 'longestTimeSpentLiving': 944, 'perk1Var1': 578, 'perk1Var3': 0, 'perk1Var2': 0, 'tripleKills': 0, 'perk5': 8017, 'perk4': 9111, 'playerScore9': 0, 'playerScore8': 0, 'kills': 6, 'playerScore1': 0, 'playerScore0': 0, 'playerScore3': 0, 'playerScore2': 0, 'playerScore5': 0, 'playerScore4': 0, 'playerScore7': 0, 'playerScore6': 0, 'perk5Var1': 39, 'perk5Var3': 0, 'perk5Var2': 0, 'totalScoreRank': 0, 'neutralMinionsKilled': 128, 'statPerk1': 5008, 'statPerk0': 5005, 'damageDealtToTurrets': 534, 'physicalDamageDealtToChampions': 1696, 'damageDealtToObjectives': 17191, 'perk2Var2': 4, 'perk2Var3': 0, 'totalUnitsHealed': 1, 'perk2Var1': 2, 'perk4Var1': 2329, 'totalDamageTaken': 37277, 'perk4Var3': 0, 'wardsKilled': 0, 'largestCriticalStrike': 31, 'largestKillingSpree': 3, 'quadraKills': 0, 'magicDamageDealt': 114728, 'firstBloodAssist': False, 'item2': 3020, 'item3': 3001, 'item0': 1401, 'item1': 3075, 'item6': 3364, 'item4': 3151, 'item5': 0, 'perk1': 8143, 'perk0': 8128, 'perk3': 8135, 'perk2': 8136, 'perk3Var3': 0, 'perk3Var2': 5, 'perk3Var1': 7909, 'damageSelfMitigated': 29729, 'magicalDamageTaken': 12859, 'perk0Var2': 18, 'firstInhibitorKill': False, 'trueDamageTaken': 502, 'assists': 15, 'perk4Var2': 420, 'goldSpent': 12750, 'trueDamageDealt': 17035, 'participantId': 7, 'physicalDamageDealt': 30072, 'sightWardsBoughtInGame': 0, 'totalDamageDealtToChampions': 19996, 'physicalDamageTaken': 23916, 'totalPlayerScore': 0, 'win': True, 'objectivePlayerScore': 0, 'totalDamageDealt': 161836, 'neutralMinionsKilledEnemyJungle': 8, 'deaths': 3, 'wardsPlaced': 3, 'perkPrimaryStyle': 8100, 'perkSubStyle': 8000, 'turretKills': 1, 'firstBloodKill': False, 'trueDamageDealtToChampions': 1858, 'goldEarned': 13726, 'killingSprees': 2, 'unrealKills': 0, 'firstTowerAssist': False, 'firstTowerKill': False, 'champLevel': 17, 'doubleKills': 0, 'inhibitorKills': 0, 'firstInhibitorAssist': False, 'perk0Var1': 1402, 'combatPlayerScore': 0, 'perk0Var3': 292, 'visionWardsBoughtInGame': 0, 'pentaKills': 0, 'totalHeal': 16813, 'totalMinionsKilled': 36, 'timeCCingOthers': 42, 'statPerk2': 5001}, 'championId': 32}, {'stats': {'neutralMinionsKilledTeamJungle': 36, 'visionScore': 23, 'magicDamageDealtToChampions': 977, 'largestMultiKill': 2, 'totalTimeCrowdControlDealt': 123, 'longestTimeSpentLiving': 544, 'perk1Var1': 4569, 'perk1Var3': 0, 'perk1Var2': 4652, 'tripleKills': 0, 'perk5': 8304, 'perk4': 8345, 'playerScore9': 0, 'playerScore8': 0, 'kills': 8, 'playerScore1': 0, 'playerScore0': 0, 'playerScore3': 0, 'playerScore2': 0, 'playerScore5': 0, 'playerScore4': 0, 'playerScore7': 0, 'playerScore6': 0, 'perk5Var1': 9, 'perk5Var3': 0, 'perk5Var2': 0, 'totalScoreRank': 0, 'neutralMinionsKilled': 56, 'statPerk1': 5008, 'statPerk0': 5005, 'damageDealtToTurrets': 8751, 'physicalDamageDealtToChampions': 14820, 'damageDealtToObjectives': 26276, 'perk2Var2': 30, 'perk2Var3': 0, 'totalUnitsHealed': 1, 'perk2Var1': 18, 'perk4Var1': 4, 'totalDamageTaken': 24129, 'perk4Var3': 0, 'wardsKilled': 0, 'largestCriticalStrike': 781, 'largestKillingSpree': 2, 'quadraKills': 0, 'magicDamageDealt': 8144, 'firstBloodAssist': False, 'item2': 3006, 'item3': 3094, 'item0': 3153, 'item1': 3124, 'item6': 3340, 'item4': 3031, 'item5': 0, 'perk1': 9101, 'perk0': 8005, 'perk3': 8014, 'perk2': 9104, 'perk3Var3': 0, 'perk3Var2': 0, 'perk3Var1': 419, 'damageSelfMitigated': 18345, 'magicalDamageTaken': 5150, 'perk0Var2': 972, 'firstInhibitorKill': True, 'trueDamageTaken': 1143, 'assists': 7, 'perk4Var2': 0, 'goldSpent': 13675, 'trueDamageDealt': 32420, 'participantId': 8, 'physicalDamageDealt': 143397, 'sightWardsBoughtInGame': 0, 'totalDamageDealtToChampions': 20404, 'physicalDamageTaken': 17836, 'totalPlayerScore': 0, 'win': True, 'objectivePlayerScore': 0, 'totalDamageDealt': 183962, 'neutralMinionsKilledEnemyJungle': 12, 'deaths': 7, 'wardsPlaced': 12, 'perkPrimaryStyle': 8000, 'perkSubStyle': 8300, 'turretKills': 1, 'firstBloodKill': False, 'trueDamageDealtToChampions': 4606, 'goldEarned': 14304, 'killingSprees': 3, 'unrealKills': 0, 'firstTowerAssist': False, 'firstTowerKill': False, 'champLevel': 17, 'doubleKills': 1, 'inhibitorKills': 2, 'firstInhibitorAssist': False, 'perk0Var1': 1372, 'combatPlayerScore': 0, 'perk0Var3': 399, 'visionWardsBoughtInGame': 1, 'pentaKills': 0, 'totalHeal': 1986, 'totalMinionsKilled': 147, 'timeCCingOthers': 12, 'statPerk2': 5002}, 'spell1Id': 4, 'participantId': 8, 'highestAchievedSeasonTier': 'SILVER', 'spell2Id': 12, 'teamId': 200, 'timeline': {'lane': 'TOP', 'participantId': 8, 'csDiffPerMinDeltas': {'20-30': -1.099999999999999, '0-10': 1.5999999999999992, '10-20': 1.9}, 'goldPerMinDeltas': {'20-30': 470.7, '0-10': 280.1, '10-20': 371.2}, 'xpDiffPerMinDeltas': {'20-30': 92.00000000000003, '0-10': 60.79999999999998, '10-20': 125.09999999999997}, 'creepsPerMinDeltas': {'20-30': 1.1, '0-10': 5.3, '10-20': 6.9}, 'xpPerMinDeltas': {'20-30': 452.20000000000005, '0-10': 444.5, '10-20': 551.3}, 'role': 'SOLO', 'damageTakenDiffPerMinDeltas': {'20-30': -503.70000000000016, '0-10': -32.60000000000002, '10-20': -536}, 'damageTakenPerMinDeltas': {'20-30': 1069.1999999999998, '0-10': 398.29999999999995, '10-20': 523.4000000000001}}, 'championId': 67}, {'stats': {'neutralMinionsKilledTeamJungle': 0, 'visionScore': 77, 'magicDamageDealtToChampions': 24042, 'largestMultiKill': 1, 'totalTimeCrowdControlDealt': 34, 'longestTimeSpentLiving': 867, 'perk1Var1': 250, 'perk1Var3': 0, 'perk1Var2': 1454, 'tripleKills': 0, 'perk5': 8347, 'perk4': 8345, 'playerScore9': 0, 'playerScore8': 0, 'kills': 6, 'playerScore1': 0, 'playerScore0': 0, 'playerScore3': 0, 'playerScore2': 0, 'playerScore5': 0, 'playerScore4': 0, 'playerScore7': 0, 'playerScore6': 0, 'perk5Var1': 0, 'perk5Var3': 0, 'perk5Var2': 0, 'totalScoreRank': 0, 'neutralMinionsKilled': 8, 'statPerk1': 5002, 'statPerk0': 5007, 'damageDealtToTurrets': 1873, 'physicalDamageDealtToChampions': 841, 'damageDealtToObjectives': 21610, 'perk2Var2': 50, 'perk2Var3': 0, 'totalUnitsHealed': 1, 'perk2Var1': 18, 'perk4Var1': 4, 'totalDamageTaken': 23459, 'perk4Var3': 0, 'wardsKilled': 5, 'largestCriticalStrike': 0, 'largestKillingSpree': 3, 'quadraKills': 0, 'magicDamageDealt': 97863, 'firstBloodAssist': False, 'item2': 1026, 'item3': 3020, 'item0': 3151, 'item1': 3092, 'item6': 3364, 'item4': 3285, 'item5': 1052, 'perk1': 8226, 'perk0': 8214, 'perk3': 8237, 'perk2': 8233, 'perk3Var3': 0, 'perk3Var2': 0, 'perk3Var1': 585, 'damageSelfMitigated': 8899, 'magicalDamageTaken': 8748, 'perk0Var2': 0, 'firstInhibitorKill': False, 'trueDamageTaken': 519, 'assists': 11, 'perk4Var2': 0, 'goldSpent': 11385, 'trueDamageDealt': 5046, 'participantId': 9, 'physicalDamageDealt': 5932, 'sightWardsBoughtInGame': 0, 'totalDamageDealtToChampions': 26152, 'physicalDamageTaken': 14190, 'totalPlayerScore': 0, 'win': True, 'objectivePlayerScore': 0, 'totalDamageDealt': 108842, 'neutralMinionsKilledEnemyJungle': 4, 'deaths': 7, 'wardsPlaced': 27, 'perkPrimaryStyle': 8200, 'perkSubStyle': 8300, 'turretKills': 0, 'firstBloodKill': False, 'trueDamageDealtToChampions': 1268, 'goldEarned': 12501, 'killingSprees': 2, 'unrealKills': 0, 'firstTowerAssist': False, 'firstTowerKill': False, 'champLevel': 15, 'doubleKills': 0, 'inhibitorKills': 0, 'firstInhibitorAssist': True, 'perk0Var1': 1797, 'combatPlayerScore': 0, 'perk0Var3': 0, 'visionWardsBoughtInGame': 4, 'pentaKills': 0, 'totalHeal': 2171, 'totalMinionsKilled': 55, 'timeCCingOthers': 16, 'statPerk2': 5001}, 'spell1Id': 4, 'participantId': 9, 'highestAchievedSeasonTier': 'SILVER', 'spell2Id': 14, 'teamId': 200, 'timeline': {'lane': 'BOTTOM', 'participantId': 9, 'csDiffPerMinDeltas': {'20-30': -0.14999999999999902, '0-10': 0.25, '10-20': 0.899999999999999}, 'goldPerMinDeltas': {'20-30': 326.8, '0-10': 266.5, '10-20': 374.5}, 'xpDiffPerMinDeltas': {'20-30': -85.25000000000003, '0-10': 19.599999999999966, '10-20': 25.24999999999997}, 'creepsPerMinDeltas': {'20-30': 1.9, '0-10': 0.4, '10-20': 2.6}, 'xpPerMinDeltas': {'20-30': 382.3, '0-10': 255.9, '10-20': 450.2}, 'role': 'DUO_SUPPORT', 'damageTakenDiffPerMinDeltas': {'20-30': -26.949999999999932, '0-10': -117.39999999999998, '10-20': -343}, 'damageTakenPerMinDeltas': {'20-30': 893.3, '0-10': 348.1, '10-20': 538.6}}, 'championId': 63}, {'stats': {'neutralMinionsKilledTeamJungle': 4, 'visionScore': 23, 'magicDamageDealtToChampions': 1125, 'largestMultiKill': 2, 'totalTimeCrowdControlDealt': 161, 'longestTimeSpentLiving': 634, 'perk1Var1': 250, 'perk1Var3': 0, 'perk1Var2': 705, 'tripleKills': 0, 'perk5': 8014, 'perk4': 9104, 'playerScore9': 0, 'playerScore8': 0, 'kills': 9, 'playerScore1': 0, 'playerScore0': 0, 'playerScore3': 0, 'playerScore2': 0, 'playerScore5': 0, 'playerScore4': 0, 'playerScore7': 0, 'playerScore6': 0, 'perk5Var1': 523, 'perk5Var3': 0, 'perk5Var2': 0, 'totalScoreRank': 0, 'neutralMinionsKilled': 16, 'statPerk1': 5008, 'statPerk0': 5005, 'damageDealtToTurrets': 9899, 'physicalDamageDealtToChampions': 25011, 'damageDealtToObjectives': 21339, 'perk2Var2': 0, 'perk2Var3': 0, 'totalUnitsHealed': 3, 'perk2Var1': 14758, 'perk4Var1': 14, 'totalDamageTaken': 22627, 'perk4Var3': 0, 'wardsKilled': 5, 'largestCriticalStrike': 552, 'largestKillingSpree': 3, 'quadraKills': 0, 'magicDamageDealt': 5922, 'firstBloodAssist': False, 'item2': 3036, 'item3': 3071, 'item0': 3142, 'item1': 3147, 'item6': 3340, 'item4': 3006, 'item5': 0, 'perk1': 8226, 'perk0': 8229, 'perk3': 8236, 'perk2': 8234, 'perk3Var3': 0, 'perk3Var2': 0, 'perk3Var1': 28, 'damageSelfMitigated': 10067, 'magicalDamageTaken': 9535, 'perk0Var2': 0, 'firstInhibitorKill': False, 'trueDamageTaken': 483, 'assists': 13, 'perk4Var2': 0, 'goldSpent': 13525, 'trueDamageDealt': 20565, 'participantId': 10, 'physicalDamageDealt': 149615, 'sightWardsBoughtInGame': 0, 'totalDamageDealtToChampions': 26246, 'physicalDamageTaken': 12608, 'totalPlayerScore': 0, 'win': True, 'objectivePlayerScore': 0, 'totalDamageDealt': 176103, 'neutralMinionsKilledEnemyJungle': 4, 'deaths': 6, 'wardsPlaced': 10, 'perkPrimaryStyle': 8200, 'perkSubStyle': 8000, 'turretKills': 6, 'firstBloodKill': True, 'trueDamageDealtToChampions': 109, 'goldEarned': 15083, 'killingSprees': 3, 'unrealKills': 0, 'firstTowerAssist': False, 'firstTowerKill': False, 'champLevel': 17, 'doubleKills': 1, 'inhibitorKills': 1, 'firstInhibitorAssist': False, 'perk0Var1': 2344, 'combatPlayerScore': 0, 'perk0Var3': 0, 'visionWardsBoughtInGame': 1, 'pentaKills': 0, 'totalHeal': 4217, 'totalMinionsKilled': 196, 'timeCCingOthers': 9, 'statPerk2': 5002}, 'spell1Id': 7, 'participantId': 10, 'highestAchievedSeasonTier': 'SILVER', 'spell2Id': 4, 'teamId': 200, 'timeline': {'lane': 'BOTTOM', 'participantId': 10, 'csDiffPerMinDeltas': {'20-30': -0.14999999999999902, '0-10': 0.25, '10-20': 0.899999999999999}, 'goldPerMinDeltas': {'20-30': 436.3, '0-10': 354.7, '10-20': 412.1}, 'xpDiffPerMinDeltas': {'20-30': -85.25000000000003, '0-10': 19.599999999999966, '10-20': 25.24999999999997}, 'creepsPerMinDeltas': {'20-30': 3.5, '0-10': 7, '10-20': 6.8}, 'xpPerMinDeltas': {'20-30': 574.3, '0-10': 363, '10-20': 430.5}, 'role': 'DUO_CARRY', 'damageTakenDiffPerMinDeltas': {'20-30': -26.949999999999932, '0-10': -117.39999999999998, '10-20': -343}, 'damageTakenPerMinDeltas': {'20-30': 1076.9, '0-10': 242.70000000000002, '10-20': 526.3}}, 'championId': 21}]\n"
          ],
          "name": "stdout"
        }
      ]
    },
    {
      "cell_type": "code",
      "metadata": {
        "id": "ZOYOSCIJV5ri",
        "colab_type": "code",
        "outputId": "fea45a90-1001-4dfb-9101-9153f037d00b",
        "colab": {
          "base_uri": "https://localhost:8080/",
          "height": 34
        }
      },
      "source": [
        "len(games)"
      ],
      "execution_count": 0,
      "outputs": [
        {
          "output_type": "execute_result",
          "data": {
            "text/plain": [
              "946"
            ]
          },
          "metadata": {
            "tags": []
          },
          "execution_count": 36
        }
      ]
    },
    {
      "cell_type": "markdown",
      "metadata": {
        "id": "MIfNTwVx-zBO",
        "colab_type": "text"
      },
      "source": [
        "### Check data"
      ]
    },
    {
      "cell_type": "code",
      "metadata": {
        "id": "VUc8ZnkC-4xI",
        "colab_type": "code",
        "outputId": "a05f7b38-c266-47a0-ab4a-527f9862afad",
        "colab": {
          "base_uri": "https://localhost:8080/",
          "height": 34
        }
      },
      "source": [
        "games.columns"
      ],
      "execution_count": 0,
      "outputs": [
        {
          "output_type": "execute_result",
          "data": {
            "text/plain": [
              "Index(['gameCreation', 'gameDuration', 'gameId', 'participants', 'teams'], dtype='object')"
            ]
          },
          "metadata": {
            "tags": []
          },
          "execution_count": 13
        }
      ]
    },
    {
      "cell_type": "code",
      "metadata": {
        "id": "Ue3ocQcV-3Xo",
        "colab_type": "code",
        "colab": {}
      },
      "source": [
        "for teams in games['teams']:\n",
        "  for team in teams:\n",
        "    print(team['firstTower'])\n",
        "\n",
        "for teams in games['teams']:\n",
        "  for team in teams:\n",
        "    print(team['firstTower'])"
      ],
      "execution_count": 0,
      "outputs": []
    },
    {
      "cell_type": "code",
      "metadata": {
        "id": "TAd5oAx9AxY8",
        "colab_type": "code",
        "colab": {}
      },
      "source": [
        "with open('game.json', 'w') as f:\n",
        "    f.write(games.to_json(orient='records', lines=True))"
      ],
      "execution_count": 0,
      "outputs": []
    },
    {
      "cell_type": "markdown",
      "metadata": {
        "id": "FAvOohqhPgnC",
        "colab_type": "text"
      },
      "source": [
        "##GET MOST PLAYED CHAMP "
      ]
    },
    {
      "cell_type": "code",
      "metadata": {
        "id": "7izSKJw6PrOC",
        "colab_type": "code",
        "colab": {}
      },
      "source": [
        "champs = {}"
      ],
      "execution_count": 0,
      "outputs": []
    },
    {
      "cell_type": "code",
      "metadata": {
        "colab_type": "code",
        "id": "SoQInswwSvya",
        "colab": {}
      },
      "source": [
        "games.participants[0][0]"
      ],
      "execution_count": 0,
      "outputs": []
    },
    {
      "cell_type": "code",
      "metadata": {
        "id": "e5vgpyJrV_Yz",
        "colab_type": "code",
        "colab": {}
      },
      "source": [
        "games['champions'] = games.participants.apply(lambda game: np.array([player['championId'] for player in game]))"
      ],
      "execution_count": 0,
      "outputs": []
    },
    {
      "cell_type": "code",
      "metadata": {
        "id": "7lu0DizZX0bs",
        "colab_type": "code",
        "colab": {}
      },
      "source": [
        "games.champions"
      ],
      "execution_count": 0,
      "outputs": []
    },
    {
      "cell_type": "code",
      "metadata": {
        "id": "XQ4OlBJLZULO",
        "colab_type": "code",
        "colab": {}
      },
      "source": [
        "for x in range(0, max(games['champions'].apply(lambda x: max(x)))+1):\n",
        "  champs[x] = 0"
      ],
      "execution_count": 0,
      "outputs": []
    },
    {
      "cell_type": "code",
      "metadata": {
        "id": "d8BW49UUZp71",
        "colab_type": "code",
        "colab": {}
      },
      "source": [
        "for champ in np.concatenate(games['champions'].values):\n",
        "  champs[champ] += 1"
      ],
      "execution_count": 0,
      "outputs": []
    },
    {
      "cell_type": "code",
      "metadata": {
        "id": "4TgvkGsxsrhp",
        "colab_type": "code",
        "colab": {}
      },
      "source": [
        "champs"
      ],
      "execution_count": 0,
      "outputs": []
    },
    {
      "cell_type": "code",
      "metadata": {
        "id": "iKmoE3OAbgH-",
        "colab_type": "code",
        "colab": {}
      },
      "source": [
        "maximito = max(champs.values())"
      ],
      "execution_count": 0,
      "outputs": []
    },
    {
      "cell_type": "code",
      "metadata": {
        "id": "LEgnOlc5sKZR",
        "colab_type": "code",
        "outputId": "a98b4920-511e-4c2f-fd8d-3d4b059a73d6",
        "colab": {
          "base_uri": "https://localhost:8080/",
          "height": 34
        }
      },
      "source": [
        "maximito"
      ],
      "execution_count": 0,
      "outputs": [
        {
          "output_type": "execute_result",
          "data": {
            "text/plain": [
              "236"
            ]
          },
          "metadata": {
            "tags": []
          },
          "execution_count": 47
        }
      ]
    },
    {
      "cell_type": "code",
      "metadata": {
        "id": "iY2huvjwbvXl",
        "colab_type": "code",
        "outputId": "6c13f17e-3153-4c37-fbb0-d91dc5c4e351",
        "colab": {
          "base_uri": "https://localhost:8080/",
          "height": 34
        }
      },
      "source": [
        "keyMostPlayedChamp = \"0\"\n",
        "for keyita, valuito in champs.items():    # for name, age in dictionary.iteritems():  (for Python 2.x)\n",
        "    if valuito == maximito:\n",
        "        print(str(keyita))\n",
        "        keyMostPlayedChamp = str(keyita)"
      ],
      "execution_count": 0,
      "outputs": [
        {
          "output_type": "stream",
          "text": [
            "157\n"
          ],
          "name": "stdout"
        }
      ]
    },
    {
      "cell_type": "code",
      "metadata": {
        "id": "D8I78hl3rAHn",
        "colab_type": "code",
        "outputId": "fb7bf0b2-ddeb-4d55-a4e7-1e26c59cf4c8",
        "colab": {
          "base_uri": "https://localhost:8080/",
          "height": 34
        }
      },
      "source": [
        "champ = \"\"\n",
        "for key, value in championsDataJson.items():\n",
        "  \n",
        "  if(value['key'] == keyMostPlayedChamp):\n",
        "    print(key + \" \" + value['key'])"
      ],
      "execution_count": 0,
      "outputs": [
        {
          "output_type": "stream",
          "text": [
            "Yasuo 157\n"
          ],
          "name": "stdout"
        }
      ]
    }
  ]
}